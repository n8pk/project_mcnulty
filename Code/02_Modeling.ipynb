{
 "cells": [
  {
   "cell_type": "markdown",
   "metadata": {},
   "source": [
    "# Import libs and data"
   ]
  },
  {
   "cell_type": "code",
   "execution_count": 14,
   "metadata": {
    "collapsed": true
   },
   "outputs": [],
   "source": [
    "import pandas as pd\n",
    "import numpy as np\n",
    "import matplotlib.pyplot as plt\n",
    "import seaborn as sns\n",
    "\n",
    "from sklearn.model_selection import learning_curve\n",
    "from sklearn.model_selection import cross_val_score\n",
    "from sklearn.model_selection import GridSearchCV\n",
    "from sklearn.model_selection import KFold\n",
    "from sklearn.model_selection import StratifiedKFold\n",
    "\n",
    "from sklearn.tree import DecisionTreeClassifier\n",
    "from sklearn.linear_model import LogisticRegression\n",
    "from sklearn.ensemble import RandomForestClassifier\n",
    "from sklearn.ensemble import GradientBoostingClassifier\n",
    "from sklearn.svm import SVC\n",
    "\n",
    "from sklearn.metrics import recall_score\n",
    "from sklearn.metrics import f1_score\n",
    "from sklearn.metrics import roc_auc_score\n",
    "from sklearn.metrics import roc_curve\n",
    "from sklearn.metrics import mean_squared_error\n",
    "\n",
    "%matplotlib inline"
   ]
  },
  {
   "cell_type": "code",
   "execution_count": 2,
   "metadata": {
    "collapsed": true
   },
   "outputs": [],
   "source": [
    "df_12 = pd.read_csv('/home/nate/ds/metis/class_work/projects/clean_data/df_12_altered.csv')\n",
    "df_13 = pd.read_csv('/home/nate/ds/metis/class_work/projects/clean_data/df_13_altered.csv')\n",
    "df_14 = pd.read_csv('/home/nate/ds/metis/class_work/projects/clean_data/df_14_altered.csv')\n",
    "df_15 = pd.read_csv('/home/nate/ds/metis/class_work/projects/clean_data/df_15_altered.csv')\n",
    "df_16 = pd.read_csv('/home/nate/ds/metis/class_work/projects/clean_data/df_16_altered.csv')"
   ]
  },
  {
   "cell_type": "markdown",
   "metadata": {},
   "source": [
    "# Split (train: '12-'15, test: '16)"
   ]
  },
  {
   "cell_type": "code",
   "execution_count": 3,
   "metadata": {
    "collapsed": true
   },
   "outputs": [],
   "source": [
    "test = df_16\n",
    "\n",
    "train_years = [df_12, df_13, df_14, df_15]\n",
    "train_whole = pd.concat(train_years).reset_index(drop=True)"
   ]
  },
  {
   "cell_type": "code",
   "execution_count": 21,
   "metadata": {
    "collapsed": true
   },
   "outputs": [],
   "source": [
    "X_train = np.matrix(train_whole[['white_ratio', 'college_ratio', 'years_med']]).reshape(-1,3)\n",
    "y_train = np.array(train_whole['rec_legal'])\n",
    "\n",
    "X_test = np.matrix(test[['white_ratio', 'college_ratio', 'years_med']]).reshape(-1,3)\n",
    "y_test = np.array(test['rec_legal'])"
   ]
  },
  {
   "cell_type": "markdown",
   "metadata": {},
   "source": [
    "# Decision Trees to find features"
   ]
  },
  {
   "cell_type": "code",
   "execution_count": 22,
   "metadata": {},
   "outputs": [
    {
     "data": {
      "text/plain": [
       "array([ 0.19700552,  0.39339539,  0.40959909])"
      ]
     },
     "execution_count": 22,
     "metadata": {},
     "output_type": "execute_result"
    }
   ],
   "source": [
    "dtc = DecisionTreeClassifier(random_state=42)\n",
    "\n",
    "dtc.fit(X_train, y_train)\n",
    "\n",
    "dtc.feature_importances_"
   ]
  },
  {
   "cell_type": "code",
   "execution_count": 7,
   "metadata": {
    "collapsed": true
   },
   "outputs": [],
   "source": [
    "# Relevant features:\n",
    "# 'college_ratio', 'eng_ratio', 'per_cap', 'years_med'"
   ]
  },
  {
   "cell_type": "code",
   "execution_count": 20,
   "metadata": {},
   "outputs": [],
   "source": [
    "# sns.pairplot(df_16)\n",
    "\n",
    "# strong linear interaction between college and per_cap duh\n",
    "# quadratic interaction between eng_ratio and everything else\n",
    "\n",
    "# after removing features with interaction effects, white ratio plays a role"
   ]
  },
  {
   "cell_type": "markdown",
   "metadata": {},
   "source": [
    "# CV to tune"
   ]
  },
  {
   "cell_type": "code",
   "execution_count": 23,
   "metadata": {
    "collapsed": true
   },
   "outputs": [],
   "source": [
    "# only features left after parsing\n",
    "\n",
    "X_train = np.array(train_whole[\n",
    "    ['white_ratio', 'college_ratio', 'years_med']]).reshape(-1,3)\n",
    "y_train = np.array(train_whole['rec_legal'])\n",
    "\n",
    "X_test = np.array(test[\n",
    "    ['white_ratio', 'college_ratio', 'years_med']]).reshape(-1,3)\n",
    "y_test = np.array(test['rec_legal'])"
   ]
  },
  {
   "cell_type": "code",
   "execution_count": 9,
   "metadata": {
    "collapsed": true
   },
   "outputs": [],
   "source": [
    "# lr = LogisticRegression()\n",
    "# rfc = RandomForestClassifier()\n",
    "# gbc = GradientBoostingClassifier()"
   ]
  },
  {
   "cell_type": "code",
   "execution_count": 24,
   "metadata": {
    "collapsed": true
   },
   "outputs": [],
   "source": [
    "legal_16 = ['Alaska', 'Colorado', 'Oregon', 'Washington', 'California', 'Massachusetts', 'Maine', 'Utah']"
   ]
  },
  {
   "cell_type": "code",
   "execution_count": 25,
   "metadata": {
    "collapsed": true
   },
   "outputs": [],
   "source": [
    "def recall_cv(model):\n",
    "    skf = StratifiedKFold(n_splits=4,random_state=42)\n",
    "\n",
    "    heads = []\n",
    "\n",
    "    for train, test in skf.split(X_train, y_train):\n",
    "\n",
    "        X = X_train[train]\n",
    "        y = y_train[train]\n",
    "        X_t = X_train[test]\n",
    "        y_t = y_train[test]\n",
    "\n",
    "        names = []\n",
    "\n",
    "        for j in test:\n",
    "            names.append(train_whole['geography'][j])\n",
    "\n",
    "        X = np.matrix(X)\n",
    "        X_t = np.matrix(X_t)\n",
    "\n",
    "        model.fit(X,y)\n",
    "        pred = model.predict_proba(X_t)\n",
    "        probs = pred[:, 1]\n",
    "\n",
    "        df_probs = pd.DataFrame(names)\n",
    "        df_probs['probability'] = probs\n",
    "        df_probs = df_probs.sort_values(by=['probability'], ascending=False).reset_index()\n",
    "\n",
    "        heads.append(df_probs.head(8))\n",
    "        \n",
    "    scores = []\n",
    "    for h in heads:\n",
    "        score = 0\n",
    "        for state in h[0]:\n",
    "            if state in legal_16:\n",
    "                score += 1\n",
    "        scores.append(score/8)\n",
    "        \n",
    "    return np.mean(scores)"
   ]
  },
  {
   "cell_type": "code",
   "execution_count": 26,
   "metadata": {},
   "outputs": [
    {
     "name": "stdout",
     "output_type": "stream",
     "text": [
      "0.94 {'C': 0.1, 'penalty': 'l1'}\n"
     ]
    }
   ],
   "source": [
    "lr = LogisticRegression(random_state=42)\n",
    "\n",
    "pens = ['l1', 'l2']\n",
    "cs = [x*0.1 for x in range(1,11)]\n",
    "\n",
    "params = {'penalty':pens, 'C':cs}\n",
    "\n",
    "clf = GridSearchCV(lr, params)\n",
    "clf.fit(X_train, y_train)\n",
    "\n",
    "print (clf.best_score_, clf.best_params_)"
   ]
  },
  {
   "cell_type": "code",
   "execution_count": 27,
   "metadata": {},
   "outputs": [
    {
     "name": "stdout",
     "output_type": "stream",
     "text": [
      "0.965 {'max_depth': 3, 'n_estimators': 25}\n"
     ]
    }
   ],
   "source": [
    "rfc = RandomForestClassifier(max_features=None, random_state=42)\n",
    "\n",
    "params = {'n_estimators':range(1,41), 'max_depth':range(1,11)}\n",
    "\n",
    "clf = GridSearchCV(rfc, params)\n",
    "clf.fit(X_train, y_train)\n",
    "\n",
    "print (clf.best_score_, clf.best_params_)"
   ]
  },
  {
   "cell_type": "code",
   "execution_count": 28,
   "metadata": {},
   "outputs": [
    {
     "name": "stdout",
     "output_type": "stream",
     "text": [
      "0.955 {'learning_rate': 0.1, 'n_estimators': 6}\n"
     ]
    }
   ],
   "source": [
    "gbc = GradientBoostingClassifier(max_features=None, max_depth=2, random_state=42)\n",
    "\n",
    "learns = [x*0.05 for x in range(1,21)]\n",
    "\n",
    "params = {'n_estimators':range(1,11), 'learning_rate':learns}\n",
    "\n",
    "clf = GridSearchCV(gbc, params)\n",
    "clf.fit(X_train, y_train)\n",
    "\n",
    "print (clf.best_score_, clf.best_params_)"
   ]
  },
  {
   "cell_type": "code",
   "execution_count": 29,
   "metadata": {},
   "outputs": [
    {
     "data": {
      "text/plain": [
       "0.75"
      ]
     },
     "execution_count": 29,
     "metadata": {},
     "output_type": "execute_result"
    }
   ],
   "source": [
    "recall_cv(LogisticRegression(penalty='l1', C=0.1, random_state=42))"
   ]
  },
  {
   "cell_type": "code",
   "execution_count": 33,
   "metadata": {},
   "outputs": [
    {
     "data": {
      "text/plain": [
       "0.6875"
      ]
     },
     "execution_count": 33,
     "metadata": {},
     "output_type": "execute_result"
    }
   ],
   "source": [
    "recall_cv(RandomForestClassifier(n_estimators=25, max_depth=3, max_features=None, random_state=42))"
   ]
  },
  {
   "cell_type": "code",
   "execution_count": 34,
   "metadata": {},
   "outputs": [
    {
     "data": {
      "text/plain": [
       "0.65625"
      ]
     },
     "execution_count": 34,
     "metadata": {},
     "output_type": "execute_result"
    }
   ],
   "source": [
    "recall_cv(GradientBoostingClassifier(n_estimators=6, learning_rate=0.1, max_depth= 2, random_state=42))"
   ]
  },
  {
   "cell_type": "code",
   "execution_count": 35,
   "metadata": {},
   "outputs": [
    {
     "data": {
      "text/plain": [
       "0.41666666666666669"
      ]
     },
     "execution_count": 35,
     "metadata": {},
     "output_type": "execute_result"
    }
   ],
   "source": [
    "np.mean(cross_val_score(GradientBoostingClassifier(), X_train, y_train, scoring='recall'))"
   ]
  },
  {
   "cell_type": "markdown",
   "metadata": {},
   "source": [
    "## logistic"
   ]
  },
  {
   "cell_type": "code",
   "execution_count": 37,
   "metadata": {},
   "outputs": [],
   "source": [
    "lr = LogisticRegression(penalty='l1', C=0.1, random_state=42)\n",
    "lr.fit(X_train, y_train)\n",
    "lr_pred = lr.predict_proba(X_test)"
   ]
  },
  {
   "cell_type": "code",
   "execution_count": 39,
   "metadata": {},
   "outputs": [],
   "source": [
    "lr_probs = lr_pred[:, 1]\n",
    "lr_names = df_16['geography']\n",
    "\n",
    "df_lr_probs = pd.DataFrame(lr_names)\n",
    "df_lr_probs['lr_probability'] = lr_probs\n",
    "df_lr_probs = df_lr_probs.sort_values(by=['lr_probability'], ascending=False).reset_index()\n",
    "\n",
    "#df_lr_probs"
   ]
  },
  {
   "cell_type": "code",
   "execution_count": 40,
   "metadata": {},
   "outputs": [
    {
     "name": "stdout",
     "output_type": "stream",
     "text": [
      "0.875 0.96875\n"
     ]
    }
   ],
   "source": [
    "recall_pred = []\n",
    "for pred in lr_probs:\n",
    "    if pred > 0.2:\n",
    "        recall_pred.append(1)\n",
    "    else:\n",
    "        recall_pred.append(0)\n",
    "\n",
    "print(recall_score(y_test, recall_pred), roc_auc_score(y_test, lr_probs))"
   ]
  },
  {
   "cell_type": "markdown",
   "metadata": {},
   "source": [
    "## random forest"
   ]
  },
  {
   "cell_type": "code",
   "execution_count": 63,
   "metadata": {
    "collapsed": true
   },
   "outputs": [],
   "source": [
    "rfc = RandomForestClassifier(n_estimators=25, max_features=None, max_depth=3, random_state=42)\n",
    "rfc.fit(X_train, y_train)\n",
    "rfc_pred = rfc.predict_proba(X_test)"
   ]
  },
  {
   "cell_type": "code",
   "execution_count": 64,
   "metadata": {},
   "outputs": [],
   "source": [
    "rfc_probs = rfc_pred[:, 1]\n",
    "rfc_names = df_16['geography']\n",
    "\n",
    "df_rfc_probs = pd.DataFrame(rfc_names)\n",
    "df_rfc_probs['rfc_probability'] = rfc_probs\n",
    "df_rfc_probs = df_rfc_probs.sort_values(by=['rfc_probability'], ascending=False).reset_index()\n",
    "\n",
    "#df_rfc_probs"
   ]
  },
  {
   "cell_type": "code",
   "execution_count": 65,
   "metadata": {},
   "outputs": [
    {
     "name": "stdout",
     "output_type": "stream",
     "text": [
      "0.875 0.921130952381\n"
     ]
    }
   ],
   "source": [
    "recall_pred = []\n",
    "for pred in rfc_probs:\n",
    "    if pred > 0.2:\n",
    "        recall_pred.append(1)\n",
    "    else:\n",
    "        recall_pred.append(0)\n",
    "\n",
    "print(recall_score(y_test, recall_pred), roc_auc_score(y_test, rfc_probs))"
   ]
  },
  {
   "cell_type": "markdown",
   "metadata": {},
   "source": [
    "## gradient boost"
   ]
  },
  {
   "cell_type": "code",
   "execution_count": 66,
   "metadata": {},
   "outputs": [],
   "source": [
    "gbc = GradientBoostingClassifier(n_estimators=6, learning_rate=0.1, max_features=None, max_depth= 2, random_state=42)\n",
    "gbc.fit(X_train, y_train)\n",
    "gbc_pred = gbc.predict_proba(X_test)"
   ]
  },
  {
   "cell_type": "code",
   "execution_count": 67,
   "metadata": {},
   "outputs": [],
   "source": [
    "gbc_probs = gbc_pred[:, 1]\n",
    "gbc_names = df_16['geography']\n",
    "\n",
    "df_gbc_probs = pd.DataFrame(gbc_names)\n",
    "df_gbc_probs['gbc_probability'] = gbc_probs\n",
    "df_gbc_probs = df_gbc_probs.sort_values(by=['gbc_probability'], ascending=False).reset_index()\n",
    "\n",
    "#df_gbc_probs"
   ]
  },
  {
   "cell_type": "code",
   "execution_count": 68,
   "metadata": {},
   "outputs": [
    {
     "name": "stdout",
     "output_type": "stream",
     "text": [
      "0.875 0.973214285714\n"
     ]
    }
   ],
   "source": [
    "recall_pred = []\n",
    "for pred in gbc_probs:\n",
    "    if pred > 0.125:\n",
    "        recall_pred.append(1)\n",
    "    else:\n",
    "        recall_pred.append(0)\n",
    "\n",
    "print(recall_score(y_test, recall_pred), roc_auc_score(y_test, gbc_probs))"
   ]
  },
  {
   "cell_type": "markdown",
   "metadata": {},
   "source": [
    "## Reciever Operating Characteristics Graph"
   ]
  },
  {
   "cell_type": "code",
   "execution_count": 49,
   "metadata": {
    "collapsed": true
   },
   "outputs": [],
   "source": [
    "false_lr, true_lr, _ = roc_curve(y_test, lr_probs)\n",
    "false_rfc, true_rfc, _ = roc_curve(y_test, rfc_probs)\n",
    "false_gbc, true_gbc, _ = roc_curve(y_test, gbc_probs)\n",
    "\n",
    "lr_auc = round(roc_auc_score(y_test, lr_probs), 4)\n",
    "rfc_auc = round(roc_auc_score(y_test, rfc_probs), 4)\n",
    "gbc_auc = round(roc_auc_score(y_test, gbc_probs), 4)"
   ]
  },
  {
   "cell_type": "code",
   "execution_count": 50,
   "metadata": {},
   "outputs": [
    {
     "data": {
      "image/png": "[encoded data removed]",
      "text/plain": [
       "<matplotlib.figure.Figure at 0x7f6978f6dc88>"
      ]
     },
     "metadata": {},
     "output_type": "display_data"
    }
   ],
   "source": [
    "plt.figure(figsize=(15,10))\n",
    "plt.plot(\n",
    "    false_lr, true_lr, 'r',\n",
    "    false_rfc, true_rfc, 'b',\n",
    "    false_gbc, true_gbc, 'g',)\n",
    "plt.legend(('Log Regression AUC = {}'.format(lr_auc),\n",
    "           'Random Forest AUC = {}'.format(rfc_auc),\n",
    "           'Gradient Boost AUC = {}'.format(gbc_auc)),\n",
    "           loc = 'lower right', edgecolor='k', prop={'size': 24})\n",
    "plt.plot([0, 1], [0, 1],'b--')\n",
    "plt.xlim([-0.01, 1.01])\n",
    "plt.ylim([-0.01, 1.01])\n",
    "plt.title('ROC Curves', fontweight='bold', fontsize=36)\n",
    "plt.ylabel('True Positive Rate', fontweight='bold', fontsize=24)\n",
    "plt.xlabel('False Positive Rate', fontweight='bold', fontsize=24)\n",
    "plt.grid()\n",
    "plt.show()"
   ]
  },
  {
   "cell_type": "markdown",
   "metadata": {},
   "source": [
    "# Voting"
   ]
  },
  {
   "cell_type": "code",
   "execution_count": 22,
   "metadata": {
    "collapsed": true
   },
   "outputs": [],
   "source": [
    "def vote(df_list, n_highest):\n",
    "    \n",
    "    '''\n",
    "    take list of model proba results and return voting results for n predicted states\n",
    "    \n",
    "    return a new df with states listed by descending voting scores\n",
    "    '''\n",
    "    \n",
    "    scores = np.zeros((50,1))\n",
    "\n",
    "    for proba_rank in df_list:\n",
    "        for rank, state in proba_rank.iterrows():            \n",
    "            if rank < n_highest:                \n",
    "                # state[0] is state's actual index\n",
    "                scores[state[0]]+=1\n",
    "                \n",
    "    \n",
    "    state_scores = test['geography'].to_frame()\n",
    "    state_scores['score'] = scores\n",
    "    \n",
    "    return state_scores.sort_values(by='score', ascending=False)"
   ]
  },
  {
   "cell_type": "code",
   "execution_count": 89,
   "metadata": {
    "collapsed": true
   },
   "outputs": [],
   "source": [
    "df_list = [df_lr_probs, df_gbc_probs]\n",
    "\n",
    "# with rfc max is 10\n",
    "vote_results = vote(df_list, 10)\n",
    "#vote_results"
   ]
  },
  {
   "cell_type": "markdown",
   "metadata": {
    "collapsed": true
   },
   "source": [
    "## voting frame"
   ]
  },
  {
   "cell_type": "code",
   "execution_count": 69,
   "metadata": {},
   "outputs": [
    {
     "data": {
      "text/html": [
       "<div>\n",
       "<style scoped>\n",
       "    .dataframe tbody tr th:only-of-type {\n",
       "        vertical-align: middle;\n",
       "    }\n",
       "\n",
       "    .dataframe tbody tr th {\n",
       "        vertical-align: top;\n",
       "    }\n",
       "\n",
       "    .dataframe thead th {\n",
       "        text-align: right;\n",
       "    }\n",
       "</style>\n",
       "<table border=\"1\" class=\"dataframe\">\n",
       "  <thead>\n",
       "    <tr style=\"text-align: right;\">\n",
       "      <th></th>\n",
       "      <th>index</th>\n",
       "      <th>geography</th>\n",
       "      <th>lr_probability</th>\n",
       "      <th>index</th>\n",
       "      <th>geography</th>\n",
       "      <th>gbc_probability</th>\n",
       "      <th>index</th>\n",
       "      <th>geography</th>\n",
       "      <th>rfc_probability</th>\n",
       "    </tr>\n",
       "  </thead>\n",
       "  <tbody>\n",
       "    <tr>\n",
       "      <th>0</th>\n",
       "      <td>4</td>\n",
       "      <td>California</td>\n",
       "      <td>0.438884</td>\n",
       "      <td>5</td>\n",
       "      <td>Colorado</td>\n",
       "      <td>0.675105</td>\n",
       "      <td>5</td>\n",
       "      <td>Colorado</td>\n",
       "      <td>1.000000</td>\n",
       "    </tr>\n",
       "    <tr>\n",
       "      <th>1</th>\n",
       "      <td>1</td>\n",
       "      <td>Alaska</td>\n",
       "      <td>0.379038</td>\n",
       "      <td>36</td>\n",
       "      <td>Oregon</td>\n",
       "      <td>0.675105</td>\n",
       "      <td>46</td>\n",
       "      <td>Washington</td>\n",
       "      <td>1.000000</td>\n",
       "    </tr>\n",
       "    <tr>\n",
       "      <th>2</th>\n",
       "      <td>46</td>\n",
       "      <td>Washington</td>\n",
       "      <td>0.379038</td>\n",
       "      <td>46</td>\n",
       "      <td>Washington</td>\n",
       "      <td>0.675105</td>\n",
       "      <td>36</td>\n",
       "      <td>Oregon</td>\n",
       "      <td>0.897535</td>\n",
       "    </tr>\n",
       "    <tr>\n",
       "      <th>3</th>\n",
       "      <td>36</td>\n",
       "      <td>Oregon</td>\n",
       "      <td>0.379038</td>\n",
       "      <td>44</td>\n",
       "      <td>Vermont</td>\n",
       "      <td>0.470982</td>\n",
       "      <td>4</td>\n",
       "      <td>California</td>\n",
       "      <td>0.633333</td>\n",
       "    </tr>\n",
       "    <tr>\n",
       "      <th>4</th>\n",
       "      <td>18</td>\n",
       "      <td>Maine</td>\n",
       "      <td>0.350327</td>\n",
       "      <td>4</td>\n",
       "      <td>California</td>\n",
       "      <td>0.411796</td>\n",
       "      <td>44</td>\n",
       "      <td>Vermont</td>\n",
       "      <td>0.560000</td>\n",
       "    </tr>\n",
       "    <tr>\n",
       "      <th>5</th>\n",
       "      <td>5</td>\n",
       "      <td>Colorado</td>\n",
       "      <td>0.322660</td>\n",
       "      <td>18</td>\n",
       "      <td>Maine</td>\n",
       "      <td>0.193345</td>\n",
       "      <td>1</td>\n",
       "      <td>Alaska</td>\n",
       "      <td>0.404947</td>\n",
       "    </tr>\n",
       "    <tr>\n",
       "      <th>6</th>\n",
       "      <td>27</td>\n",
       "      <td>Nevada</td>\n",
       "      <td>0.322660</td>\n",
       "      <td>27</td>\n",
       "      <td>Nevada</td>\n",
       "      <td>0.193345</td>\n",
       "      <td>27</td>\n",
       "      <td>Nevada</td>\n",
       "      <td>0.396947</td>\n",
       "    </tr>\n",
       "    <tr>\n",
       "      <th>7</th>\n",
       "      <td>10</td>\n",
       "      <td>Hawaii</td>\n",
       "      <td>0.322660</td>\n",
       "      <td>1</td>\n",
       "      <td>Alaska</td>\n",
       "      <td>0.193345</td>\n",
       "      <td>10</td>\n",
       "      <td>Hawaii</td>\n",
       "      <td>0.286000</td>\n",
       "    </tr>\n",
       "    <tr>\n",
       "      <th>8</th>\n",
       "      <td>44</td>\n",
       "      <td>Vermont</td>\n",
       "      <td>0.224879</td>\n",
       "      <td>10</td>\n",
       "      <td>Hawaii</td>\n",
       "      <td>0.144924</td>\n",
       "      <td>18</td>\n",
       "      <td>Maine</td>\n",
       "      <td>0.269328</td>\n",
       "    </tr>\n",
       "    <tr>\n",
       "      <th>9</th>\n",
       "      <td>25</td>\n",
       "      <td>Montana</td>\n",
       "      <td>0.224879</td>\n",
       "      <td>25</td>\n",
       "      <td>Montana</td>\n",
       "      <td>0.093131</td>\n",
       "      <td>25</td>\n",
       "      <td>Montana</td>\n",
       "      <td>0.027020</td>\n",
       "    </tr>\n",
       "    <tr>\n",
       "      <th>10</th>\n",
       "      <td>38</td>\n",
       "      <td>Rhode Island</td>\n",
       "      <td>0.184613</td>\n",
       "      <td>20</td>\n",
       "      <td>Massachusetts</td>\n",
       "      <td>0.041606</td>\n",
       "      <td>43</td>\n",
       "      <td>Utah</td>\n",
       "      <td>0.000000</td>\n",
       "    </tr>\n",
       "    <tr>\n",
       "      <th>11</th>\n",
       "      <td>30</td>\n",
       "      <td>New Mexico</td>\n",
       "      <td>0.166676</td>\n",
       "      <td>19</td>\n",
       "      <td>Maryland</td>\n",
       "      <td>0.041606</td>\n",
       "      <td>42</td>\n",
       "      <td>Texas</td>\n",
       "      <td>0.000000</td>\n",
       "    </tr>\n",
       "    <tr>\n",
       "      <th>12</th>\n",
       "      <td>21</td>\n",
       "      <td>Michigan</td>\n",
       "      <td>0.150161</td>\n",
       "      <td>29</td>\n",
       "      <td>New Jersey</td>\n",
       "      <td>0.041606</td>\n",
       "      <td>29</td>\n",
       "      <td>New Jersey</td>\n",
       "      <td>0.000000</td>\n",
       "    </tr>\n",
       "    <tr>\n",
       "      <th>13</th>\n",
       "      <td>29</td>\n",
       "      <td>New Jersey</td>\n",
       "      <td>0.121182</td>\n",
       "      <td>6</td>\n",
       "      <td>Connecticut</td>\n",
       "      <td>0.041606</td>\n",
       "      <td>48</td>\n",
       "      <td>Wisconsin</td>\n",
       "      <td>0.000000</td>\n",
       "    </tr>\n",
       "    <tr>\n",
       "      <th>14</th>\n",
       "      <td>2</td>\n",
       "      <td>Arizona</td>\n",
       "      <td>0.121182</td>\n",
       "      <td>45</td>\n",
       "      <td>Virginia</td>\n",
       "      <td>0.041606</td>\n",
       "      <td>30</td>\n",
       "      <td>New Mexico</td>\n",
       "      <td>0.000000</td>\n",
       "    </tr>\n",
       "    <tr>\n",
       "      <th>15</th>\n",
       "      <td>7</td>\n",
       "      <td>Delaware</td>\n",
       "      <td>0.108587</td>\n",
       "      <td>35</td>\n",
       "      <td>Oklahoma</td>\n",
       "      <td>0.033581</td>\n",
       "      <td>31</td>\n",
       "      <td>New York</td>\n",
       "      <td>0.000000</td>\n",
       "    </tr>\n",
       "    <tr>\n",
       "      <th>16</th>\n",
       "      <td>6</td>\n",
       "      <td>Connecticut</td>\n",
       "      <td>0.097157</td>\n",
       "      <td>31</td>\n",
       "      <td>New York</td>\n",
       "      <td>0.033581</td>\n",
       "      <td>32</td>\n",
       "      <td>North Carolina</td>\n",
       "      <td>0.000000</td>\n",
       "    </tr>\n",
       "    <tr>\n",
       "      <th>17</th>\n",
       "      <td>20</td>\n",
       "      <td>Massachusetts</td>\n",
       "      <td>0.097157</td>\n",
       "      <td>48</td>\n",
       "      <td>Wisconsin</td>\n",
       "      <td>0.033581</td>\n",
       "      <td>33</td>\n",
       "      <td>North Dakota</td>\n",
       "      <td>0.000000</td>\n",
       "    </tr>\n",
       "    <tr>\n",
       "      <th>18</th>\n",
       "      <td>28</td>\n",
       "      <td>New Hampshire</td>\n",
       "      <td>0.086812</td>\n",
       "      <td>32</td>\n",
       "      <td>North Carolina</td>\n",
       "      <td>0.033581</td>\n",
       "      <td>34</td>\n",
       "      <td>Ohio</td>\n",
       "      <td>0.000000</td>\n",
       "    </tr>\n",
       "    <tr>\n",
       "      <th>19</th>\n",
       "      <td>12</td>\n",
       "      <td>Illinois</td>\n",
       "      <td>0.086812</td>\n",
       "      <td>47</td>\n",
       "      <td>West Virginia</td>\n",
       "      <td>0.033581</td>\n",
       "      <td>35</td>\n",
       "      <td>Oklahoma</td>\n",
       "      <td>0.000000</td>\n",
       "    </tr>\n",
       "    <tr>\n",
       "      <th>20</th>\n",
       "      <td>31</td>\n",
       "      <td>New York</td>\n",
       "      <td>0.077475</td>\n",
       "      <td>33</td>\n",
       "      <td>North Dakota</td>\n",
       "      <td>0.033581</td>\n",
       "      <td>47</td>\n",
       "      <td>West Virginia</td>\n",
       "      <td>0.000000</td>\n",
       "    </tr>\n",
       "    <tr>\n",
       "      <th>21</th>\n",
       "      <td>19</td>\n",
       "      <td>Maryland</td>\n",
       "      <td>0.077475</td>\n",
       "      <td>34</td>\n",
       "      <td>Ohio</td>\n",
       "      <td>0.033581</td>\n",
       "      <td>45</td>\n",
       "      <td>Virginia</td>\n",
       "      <td>0.000000</td>\n",
       "    </tr>\n",
       "    <tr>\n",
       "      <th>22</th>\n",
       "      <td>22</td>\n",
       "      <td>Minnesota</td>\n",
       "      <td>0.077475</td>\n",
       "      <td>41</td>\n",
       "      <td>Tennessee</td>\n",
       "      <td>0.033581</td>\n",
       "      <td>37</td>\n",
       "      <td>Pennsylvania</td>\n",
       "      <td>0.000000</td>\n",
       "    </tr>\n",
       "    <tr>\n",
       "      <th>23</th>\n",
       "      <td>37</td>\n",
       "      <td>Pennsylvania</td>\n",
       "      <td>0.061508</td>\n",
       "      <td>40</td>\n",
       "      <td>South Dakota</td>\n",
       "      <td>0.033581</td>\n",
       "      <td>38</td>\n",
       "      <td>Rhode Island</td>\n",
       "      <td>0.000000</td>\n",
       "    </tr>\n",
       "    <tr>\n",
       "      <th>24</th>\n",
       "      <td>40</td>\n",
       "      <td>South Dakota</td>\n",
       "      <td>0.061508</td>\n",
       "      <td>43</td>\n",
       "      <td>Utah</td>\n",
       "      <td>0.033581</td>\n",
       "      <td>28</td>\n",
       "      <td>New Hampshire</td>\n",
       "      <td>0.000000</td>\n",
       "    </tr>\n",
       "    <tr>\n",
       "      <th>25</th>\n",
       "      <td>39</td>\n",
       "      <td>South Carolina</td>\n",
       "      <td>0.061508</td>\n",
       "      <td>42</td>\n",
       "      <td>Texas</td>\n",
       "      <td>0.033581</td>\n",
       "      <td>40</td>\n",
       "      <td>South Dakota</td>\n",
       "      <td>0.000000</td>\n",
       "    </tr>\n",
       "    <tr>\n",
       "      <th>26</th>\n",
       "      <td>34</td>\n",
       "      <td>Ohio</td>\n",
       "      <td>0.061508</td>\n",
       "      <td>37</td>\n",
       "      <td>Pennsylvania</td>\n",
       "      <td>0.033581</td>\n",
       "      <td>41</td>\n",
       "      <td>Tennessee</td>\n",
       "      <td>0.000000</td>\n",
       "    </tr>\n",
       "    <tr>\n",
       "      <th>27</th>\n",
       "      <td>41</td>\n",
       "      <td>Tennessee</td>\n",
       "      <td>0.061508</td>\n",
       "      <td>38</td>\n",
       "      <td>Rhode Island</td>\n",
       "      <td>0.033581</td>\n",
       "      <td>39</td>\n",
       "      <td>South Carolina</td>\n",
       "      <td>0.000000</td>\n",
       "    </tr>\n",
       "    <tr>\n",
       "      <th>28</th>\n",
       "      <td>42</td>\n",
       "      <td>Texas</td>\n",
       "      <td>0.061508</td>\n",
       "      <td>30</td>\n",
       "      <td>New Mexico</td>\n",
       "      <td>0.033581</td>\n",
       "      <td>0</td>\n",
       "      <td>Alabama</td>\n",
       "      <td>0.000000</td>\n",
       "    </tr>\n",
       "    <tr>\n",
       "      <th>29</th>\n",
       "      <td>43</td>\n",
       "      <td>Utah</td>\n",
       "      <td>0.061508</td>\n",
       "      <td>39</td>\n",
       "      <td>South Carolina</td>\n",
       "      <td>0.033581</td>\n",
       "      <td>26</td>\n",
       "      <td>Nebraska</td>\n",
       "      <td>0.000000</td>\n",
       "    </tr>\n",
       "    <tr>\n",
       "      <th>30</th>\n",
       "      <td>45</td>\n",
       "      <td>Virginia</td>\n",
       "      <td>0.061508</td>\n",
       "      <td>0</td>\n",
       "      <td>Alabama</td>\n",
       "      <td>0.033581</td>\n",
       "      <td>13</td>\n",
       "      <td>Indiana</td>\n",
       "      <td>0.000000</td>\n",
       "    </tr>\n",
       "    <tr>\n",
       "      <th>31</th>\n",
       "      <td>47</td>\n",
       "      <td>West Virginia</td>\n",
       "      <td>0.061508</td>\n",
       "      <td>28</td>\n",
       "      <td>New Hampshire</td>\n",
       "      <td>0.033581</td>\n",
       "      <td>2</td>\n",
       "      <td>Arizona</td>\n",
       "      <td>0.000000</td>\n",
       "    </tr>\n",
       "    <tr>\n",
       "      <th>32</th>\n",
       "      <td>48</td>\n",
       "      <td>Wisconsin</td>\n",
       "      <td>0.061508</td>\n",
       "      <td>13</td>\n",
       "      <td>Indiana</td>\n",
       "      <td>0.033581</td>\n",
       "      <td>3</td>\n",
       "      <td>Arkansas</td>\n",
       "      <td>0.000000</td>\n",
       "    </tr>\n",
       "    <tr>\n",
       "      <th>33</th>\n",
       "      <td>35</td>\n",
       "      <td>Oklahoma</td>\n",
       "      <td>0.061508</td>\n",
       "      <td>2</td>\n",
       "      <td>Arizona</td>\n",
       "      <td>0.033581</td>\n",
       "      <td>6</td>\n",
       "      <td>Connecticut</td>\n",
       "      <td>0.000000</td>\n",
       "    </tr>\n",
       "    <tr>\n",
       "      <th>34</th>\n",
       "      <td>0</td>\n",
       "      <td>Alabama</td>\n",
       "      <td>0.061508</td>\n",
       "      <td>3</td>\n",
       "      <td>Arkansas</td>\n",
       "      <td>0.033581</td>\n",
       "      <td>7</td>\n",
       "      <td>Delaware</td>\n",
       "      <td>0.000000</td>\n",
       "    </tr>\n",
       "    <tr>\n",
       "      <th>35</th>\n",
       "      <td>33</td>\n",
       "      <td>North Dakota</td>\n",
       "      <td>0.061508</td>\n",
       "      <td>7</td>\n",
       "      <td>Delaware</td>\n",
       "      <td>0.033581</td>\n",
       "      <td>8</td>\n",
       "      <td>Florida</td>\n",
       "      <td>0.000000</td>\n",
       "    </tr>\n",
       "    <tr>\n",
       "      <th>36</th>\n",
       "      <td>32</td>\n",
       "      <td>North Carolina</td>\n",
       "      <td>0.061508</td>\n",
       "      <td>8</td>\n",
       "      <td>Florida</td>\n",
       "      <td>0.033581</td>\n",
       "      <td>9</td>\n",
       "      <td>Georgia</td>\n",
       "      <td>0.000000</td>\n",
       "    </tr>\n",
       "    <tr>\n",
       "      <th>37</th>\n",
       "      <td>26</td>\n",
       "      <td>Nebraska</td>\n",
       "      <td>0.061508</td>\n",
       "      <td>9</td>\n",
       "      <td>Georgia</td>\n",
       "      <td>0.033581</td>\n",
       "      <td>11</td>\n",
       "      <td>Idaho</td>\n",
       "      <td>0.000000</td>\n",
       "    </tr>\n",
       "    <tr>\n",
       "      <th>38</th>\n",
       "      <td>24</td>\n",
       "      <td>Missouri</td>\n",
       "      <td>0.061508</td>\n",
       "      <td>11</td>\n",
       "      <td>Idaho</td>\n",
       "      <td>0.033581</td>\n",
       "      <td>12</td>\n",
       "      <td>Illinois</td>\n",
       "      <td>0.000000</td>\n",
       "    </tr>\n",
       "    <tr>\n",
       "      <th>39</th>\n",
       "      <td>23</td>\n",
       "      <td>Mississippi</td>\n",
       "      <td>0.061508</td>\n",
       "      <td>12</td>\n",
       "      <td>Illinois</td>\n",
       "      <td>0.033581</td>\n",
       "      <td>14</td>\n",
       "      <td>Iowa</td>\n",
       "      <td>0.000000</td>\n",
       "    </tr>\n",
       "    <tr>\n",
       "      <th>40</th>\n",
       "      <td>17</td>\n",
       "      <td>Louisiana</td>\n",
       "      <td>0.061508</td>\n",
       "      <td>14</td>\n",
       "      <td>Iowa</td>\n",
       "      <td>0.033581</td>\n",
       "      <td>24</td>\n",
       "      <td>Missouri</td>\n",
       "      <td>0.000000</td>\n",
       "    </tr>\n",
       "    <tr>\n",
       "      <th>41</th>\n",
       "      <td>16</td>\n",
       "      <td>Kentucky</td>\n",
       "      <td>0.061508</td>\n",
       "      <td>26</td>\n",
       "      <td>Nebraska</td>\n",
       "      <td>0.033581</td>\n",
       "      <td>15</td>\n",
       "      <td>Kansas</td>\n",
       "      <td>0.000000</td>\n",
       "    </tr>\n",
       "    <tr>\n",
       "      <th>42</th>\n",
       "      <td>15</td>\n",
       "      <td>Kansas</td>\n",
       "      <td>0.061508</td>\n",
       "      <td>15</td>\n",
       "      <td>Kansas</td>\n",
       "      <td>0.033581</td>\n",
       "      <td>16</td>\n",
       "      <td>Kentucky</td>\n",
       "      <td>0.000000</td>\n",
       "    </tr>\n",
       "    <tr>\n",
       "      <th>43</th>\n",
       "      <td>14</td>\n",
       "      <td>Iowa</td>\n",
       "      <td>0.061508</td>\n",
       "      <td>16</td>\n",
       "      <td>Kentucky</td>\n",
       "      <td>0.033581</td>\n",
       "      <td>17</td>\n",
       "      <td>Louisiana</td>\n",
       "      <td>0.000000</td>\n",
       "    </tr>\n",
       "    <tr>\n",
       "      <th>44</th>\n",
       "      <td>13</td>\n",
       "      <td>Indiana</td>\n",
       "      <td>0.061508</td>\n",
       "      <td>17</td>\n",
       "      <td>Louisiana</td>\n",
       "      <td>0.033581</td>\n",
       "      <td>19</td>\n",
       "      <td>Maryland</td>\n",
       "      <td>0.000000</td>\n",
       "    </tr>\n",
       "    <tr>\n",
       "      <th>45</th>\n",
       "      <td>11</td>\n",
       "      <td>Idaho</td>\n",
       "      <td>0.061508</td>\n",
       "      <td>21</td>\n",
       "      <td>Michigan</td>\n",
       "      <td>0.033581</td>\n",
       "      <td>20</td>\n",
       "      <td>Massachusetts</td>\n",
       "      <td>0.000000</td>\n",
       "    </tr>\n",
       "    <tr>\n",
       "      <th>46</th>\n",
       "      <td>9</td>\n",
       "      <td>Georgia</td>\n",
       "      <td>0.061508</td>\n",
       "      <td>22</td>\n",
       "      <td>Minnesota</td>\n",
       "      <td>0.033581</td>\n",
       "      <td>21</td>\n",
       "      <td>Michigan</td>\n",
       "      <td>0.000000</td>\n",
       "    </tr>\n",
       "    <tr>\n",
       "      <th>47</th>\n",
       "      <td>8</td>\n",
       "      <td>Florida</td>\n",
       "      <td>0.061508</td>\n",
       "      <td>23</td>\n",
       "      <td>Mississippi</td>\n",
       "      <td>0.033581</td>\n",
       "      <td>22</td>\n",
       "      <td>Minnesota</td>\n",
       "      <td>0.000000</td>\n",
       "    </tr>\n",
       "    <tr>\n",
       "      <th>48</th>\n",
       "      <td>3</td>\n",
       "      <td>Arkansas</td>\n",
       "      <td>0.061508</td>\n",
       "      <td>24</td>\n",
       "      <td>Missouri</td>\n",
       "      <td>0.033581</td>\n",
       "      <td>23</td>\n",
       "      <td>Mississippi</td>\n",
       "      <td>0.000000</td>\n",
       "    </tr>\n",
       "    <tr>\n",
       "      <th>49</th>\n",
       "      <td>49</td>\n",
       "      <td>Wyoming</td>\n",
       "      <td>0.061508</td>\n",
       "      <td>49</td>\n",
       "      <td>Wyoming</td>\n",
       "      <td>0.033581</td>\n",
       "      <td>49</td>\n",
       "      <td>Wyoming</td>\n",
       "      <td>0.000000</td>\n",
       "    </tr>\n",
       "  </tbody>\n",
       "</table>\n",
       "</div>"
      ],
      "text/plain": [
       "    index       geography  lr_probability  index       geography  \\\n",
       "0       4      California        0.438884      5        Colorado   \n",
       "1       1          Alaska        0.379038     36          Oregon   \n",
       "2      46      Washington        0.379038     46      Washington   \n",
       "3      36          Oregon        0.379038     44         Vermont   \n",
       "4      18           Maine        0.350327      4      California   \n",
       "5       5        Colorado        0.322660     18           Maine   \n",
       "6      27          Nevada        0.322660     27          Nevada   \n",
       "7      10          Hawaii        0.322660      1          Alaska   \n",
       "8      44         Vermont        0.224879     10          Hawaii   \n",
       "9      25         Montana        0.224879     25         Montana   \n",
       "10     38    Rhode Island        0.184613     20   Massachusetts   \n",
       "11     30      New Mexico        0.166676     19        Maryland   \n",
       "12     21        Michigan        0.150161     29      New Jersey   \n",
       "13     29      New Jersey        0.121182      6     Connecticut   \n",
       "14      2         Arizona        0.121182     45        Virginia   \n",
       "15      7        Delaware        0.108587     35        Oklahoma   \n",
       "16      6     Connecticut        0.097157     31        New York   \n",
       "17     20   Massachusetts        0.097157     48       Wisconsin   \n",
       "18     28   New Hampshire        0.086812     32  North Carolina   \n",
       "19     12        Illinois        0.086812     47   West Virginia   \n",
       "20     31        New York        0.077475     33    North Dakota   \n",
       "21     19        Maryland        0.077475     34            Ohio   \n",
       "22     22       Minnesota        0.077475     41       Tennessee   \n",
       "23     37    Pennsylvania        0.061508     40    South Dakota   \n",
       "24     40    South Dakota        0.061508     43            Utah   \n",
       "25     39  South Carolina        0.061508     42           Texas   \n",
       "26     34            Ohio        0.061508     37    Pennsylvania   \n",
       "27     41       Tennessee        0.061508     38    Rhode Island   \n",
       "28     42           Texas        0.061508     30      New Mexico   \n",
       "29     43            Utah        0.061508     39  South Carolina   \n",
       "30     45        Virginia        0.061508      0         Alabama   \n",
       "31     47   West Virginia        0.061508     28   New Hampshire   \n",
       "32     48       Wisconsin        0.061508     13         Indiana   \n",
       "33     35        Oklahoma        0.061508      2         Arizona   \n",
       "34      0         Alabama        0.061508      3        Arkansas   \n",
       "35     33    North Dakota        0.061508      7        Delaware   \n",
       "36     32  North Carolina        0.061508      8         Florida   \n",
       "37     26        Nebraska        0.061508      9         Georgia   \n",
       "38     24        Missouri        0.061508     11           Idaho   \n",
       "39     23     Mississippi        0.061508     12        Illinois   \n",
       "40     17       Louisiana        0.061508     14            Iowa   \n",
       "41     16        Kentucky        0.061508     26        Nebraska   \n",
       "42     15          Kansas        0.061508     15          Kansas   \n",
       "43     14            Iowa        0.061508     16        Kentucky   \n",
       "44     13         Indiana        0.061508     17       Louisiana   \n",
       "45     11           Idaho        0.061508     21        Michigan   \n",
       "46      9         Georgia        0.061508     22       Minnesota   \n",
       "47      8         Florida        0.061508     23     Mississippi   \n",
       "48      3        Arkansas        0.061508     24        Missouri   \n",
       "49     49         Wyoming        0.061508     49         Wyoming   \n",
       "\n",
       "    gbc_probability  index       geography  rfc_probability  \n",
       "0          0.675105      5        Colorado         1.000000  \n",
       "1          0.675105     46      Washington         1.000000  \n",
       "2          0.675105     36          Oregon         0.897535  \n",
       "3          0.470982      4      California         0.633333  \n",
       "4          0.411796     44         Vermont         0.560000  \n",
       "5          0.193345      1          Alaska         0.404947  \n",
       "6          0.193345     27          Nevada         0.396947  \n",
       "7          0.193345     10          Hawaii         0.286000  \n",
       "8          0.144924     18           Maine         0.269328  \n",
       "9          0.093131     25         Montana         0.027020  \n",
       "10         0.041606     43            Utah         0.000000  \n",
       "11         0.041606     42           Texas         0.000000  \n",
       "12         0.041606     29      New Jersey         0.000000  \n",
       "13         0.041606     48       Wisconsin         0.000000  \n",
       "14         0.041606     30      New Mexico         0.000000  \n",
       "15         0.033581     31        New York         0.000000  \n",
       "16         0.033581     32  North Carolina         0.000000  \n",
       "17         0.033581     33    North Dakota         0.000000  \n",
       "18         0.033581     34            Ohio         0.000000  \n",
       "19         0.033581     35        Oklahoma         0.000000  \n",
       "20         0.033581     47   West Virginia         0.000000  \n",
       "21         0.033581     45        Virginia         0.000000  \n",
       "22         0.033581     37    Pennsylvania         0.000000  \n",
       "23         0.033581     38    Rhode Island         0.000000  \n",
       "24         0.033581     28   New Hampshire         0.000000  \n",
       "25         0.033581     40    South Dakota         0.000000  \n",
       "26         0.033581     41       Tennessee         0.000000  \n",
       "27         0.033581     39  South Carolina         0.000000  \n",
       "28         0.033581      0         Alabama         0.000000  \n",
       "29         0.033581     26        Nebraska         0.000000  \n",
       "30         0.033581     13         Indiana         0.000000  \n",
       "31         0.033581      2         Arizona         0.000000  \n",
       "32         0.033581      3        Arkansas         0.000000  \n",
       "33         0.033581      6     Connecticut         0.000000  \n",
       "34         0.033581      7        Delaware         0.000000  \n",
       "35         0.033581      8         Florida         0.000000  \n",
       "36         0.033581      9         Georgia         0.000000  \n",
       "37         0.033581     11           Idaho         0.000000  \n",
       "38         0.033581     12        Illinois         0.000000  \n",
       "39         0.033581     14            Iowa         0.000000  \n",
       "40         0.033581     24        Missouri         0.000000  \n",
       "41         0.033581     15          Kansas         0.000000  \n",
       "42         0.033581     16        Kentucky         0.000000  \n",
       "43         0.033581     17       Louisiana         0.000000  \n",
       "44         0.033581     19        Maryland         0.000000  \n",
       "45         0.033581     20   Massachusetts         0.000000  \n",
       "46         0.033581     21        Michigan         0.000000  \n",
       "47         0.033581     22       Minnesota         0.000000  \n",
       "48         0.033581     23     Mississippi         0.000000  \n",
       "49         0.033581     49         Wyoming         0.000000  "
      ]
     },
     "execution_count": 69,
     "metadata": {},
     "output_type": "execute_result"
    }
   ],
   "source": [
    "models_df = pd.concat([df_lr_probs.sort_values(by=['lr_probability'], ascending=False),\\\n",
    "                    df_gbc_probs.sort_values(by=['gbc_probability'], ascending=False),\\\n",
    "                    df_rfc_probs.sort_values(by=['rfc_probability'], ascending=False)],\\\n",
    "                    axis=1)\n",
    "models_df"
   ]
  },
  {
   "cell_type": "code",
   "execution_count": 118,
   "metadata": {
    "collapsed": true
   },
   "outputs": [],
   "source": [
    "# for Flask\n",
    "\n",
    "# model = lr.fit(X_train, y_train)\n",
    "# model.predict_proba([[0.5, 0.5, 10]])\n",
    "\n",
    "# import pickle\n",
    "# muffin_cupcake_dict = {'muffin_cupcake_model': model, 'muffin_cupcake_features': ['college_ratio', 'eng_ratio', 'years_med']}\n",
    "# muffin_cupcake_dict\n",
    "# pickle.dump(muffin_cupcake_dict, open('/home/nate/flask_test/pkl_muffins_cupcakes.p', 'wb'))"
   ]
  },
  {
   "cell_type": "code",
   "execution_count": 59,
   "metadata": {
    "collapsed": true
   },
   "outputs": [],
   "source": [
    "lrs = list(df_lr_probs.sort_values('index')['lr_probability'])\n",
    "gbcs = list(df_gbc_probs.sort_values('index')['gbc_probability'])\n",
    "\n",
    "lr_norm = [float(x)/sum(lrs) for x in lrs]\n",
    "gbc_norm = [float(x)/sum(gbcs) for x in gbcs]\n",
    "\n",
    "probs = [(x+y)/2 for x,y in zip(lr_norm, gbc_norm)]"
   ]
  },
  {
   "cell_type": "code",
   "execution_count": 61,
   "metadata": {
    "collapsed": true
   },
   "outputs": [],
   "source": [
    "norm_df = df_16[['geography']].copy()\n",
    "norm_df['norm_prob'] = probs"
   ]
  },
  {
   "cell_type": "code",
   "execution_count": 62,
   "metadata": {
    "collapsed": true
   },
   "outputs": [],
   "source": [
    "norm_df.to_csv('/home/nate/ds/metis/class_work/projects/clean_data/new_norm.csv')"
   ]
  },
  {
   "cell_type": "code",
   "execution_count": null,
   "metadata": {
    "collapsed": true
   },
   "outputs": [],
   "source": []
  }
 ],
 "metadata": {
  "kernelspec": {
   "display_name": "Python 3",
   "language": "python",
   "name": "python3"
  },
  "language_info": {
   "codemirror_mode": {
    "name": "ipython",
    "version": 3
   },
   "file_extension": ".py",
   "mimetype": "text/x-python",
   "name": "python",
   "nbconvert_exporter": "python",
   "pygments_lexer": "ipython3",
   "version": "3.6.3"
  },
  "toc": {
   "nav_menu": {},
   "number_sections": true,
   "sideBar": true,
   "skip_h1_title": false,
   "toc_cell": false,
   "toc_position": {},
   "toc_section_display": "block",
   "toc_window_display": false
  }
 },
 "nbformat": 4,
 "nbformat_minor": 2
}
