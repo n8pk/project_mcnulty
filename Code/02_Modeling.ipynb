{
 "cells": [
  {
   "cell_type": "markdown",
   "metadata": {},
   "source": [
    "# Import libs and data"
   ]
  },
  {
   "cell_type": "code",
   "execution_count": 1,
   "metadata": {
    "collapsed": true
   },
   "outputs": [],
   "source": [
    "import pandas as pd\n",
    "import numpy as np\n",
    "import matplotlib.pyplot as plt\n",
    "\n",
    "from sklearn.model_selection import learning_curve\n",
    "from sklearn.model_selection import cross_val_score\n",
    "from sklearn.model_selection import GridSearchCV\n",
    "from sklearn.model_selection import KFold\n",
    "\n",
    "from sklearn.tree import DecisionTreeClassifier\n",
    "from sklearn.linear_model import LogisticRegression\n",
    "from sklearn.ensemble import RandomForestClassifier\n",
    "from sklearn.ensemble import GradientBoostingClassifier\n",
    "\n",
    "from sklearn.metrics import recall_score\n",
    "from sklearn.metrics import f1_score\n",
    "from sklearn.metrics import roc_auc_score\n",
    "from sklearn.metrics import roc_curve\n",
    "from sklearn.metrics import mean_squared_error\n",
    "\n",
    "%matplotlib inline"
   ]
  },
  {
   "cell_type": "code",
   "execution_count": 2,
   "metadata": {
    "collapsed": true
   },
   "outputs": [],
   "source": [
    "df_12 = pd.read_csv('/home/nate/ds/metis/class_work/projects/clean_data/df_12.csv')\n",
    "df_13 = pd.read_csv('/home/nate/ds/metis/class_work/projects/clean_data/df_13.csv')\n",
    "df_14 = pd.read_csv('/home/nate/ds/metis/class_work/projects/clean_data/df_14.csv')\n",
    "df_15 = pd.read_csv('/home/nate/ds/metis/class_work/projects/clean_data/df_15.csv')\n",
    "df_16 = pd.read_csv('/home/nate/ds/metis/class_work/projects/clean_data/df_16.csv')"
   ]
  },
  {
   "cell_type": "markdown",
   "metadata": {},
   "source": [
    "# Split (train: '12-'15, test: '16)"
   ]
  },
  {
   "cell_type": "code",
   "execution_count": 3,
   "metadata": {
    "collapsed": true
   },
   "outputs": [],
   "source": [
    "test = df_16\n",
    "\n",
    "train_years = [df_12, df_13, df_14, df_15]\n",
    "train = pd.concat(train_years).reset_index(drop=True)"
   ]
  },
  {
   "cell_type": "code",
   "execution_count": 4,
   "metadata": {
    "collapsed": true
   },
   "outputs": [],
   "source": [
    "X_train = np.matrix(train.loc[:, 'white_ratio':'years_med']).reshape(-1,12)\n",
    "y_train = np.array(train['rec_legal'])\n",
    "\n",
    "X_test = np.matrix(test.loc[:, 'white_ratio':'years_med']).reshape(-1,12)\n",
    "y_test = np.array(test['rec_legal'])"
   ]
  },
  {
   "cell_type": "markdown",
   "metadata": {},
   "source": [
    "# Decision Trees to find features"
   ]
  },
  {
   "cell_type": "code",
   "execution_count": 8,
   "metadata": {},
   "outputs": [
    {
     "data": {
      "text/plain": [
       "array([ 0.05396238,  0.        ,  0.31028369,  0.17730496,  0.        ,\n",
       "        0.        ,  0.12334258,  0.        ,  0.        ,  0.        ,\n",
       "        0.        ,  0.33510638])"
      ]
     },
     "execution_count": 8,
     "metadata": {},
     "output_type": "execute_result"
    }
   ],
   "source": [
    "dtc = DecisionTreeClassifier(random_state=42)\n",
    "\n",
    "dtc.fit(X_train, y_train)\n",
    "\n",
    "dtc.feature_importances_"
   ]
  },
  {
   "cell_type": "code",
   "execution_count": 45,
   "metadata": {
    "collapsed": true
   },
   "outputs": [],
   "source": [
    "# 'white_ratio', 'college_ratio', 'eng_ratio', 'married_median', 'years_med'"
   ]
  },
  {
   "cell_type": "markdown",
   "metadata": {},
   "source": [
    "# CV to tune"
   ]
  },
  {
   "cell_type": "code",
   "execution_count": 9,
   "metadata": {
    "collapsed": true
   },
   "outputs": [],
   "source": [
    "# starting with 2 most important features\n",
    "\n",
    "X_train = np.matrix(train[['years_med']]).reshape(-1,1)\n",
    "y_train = np.array(train['rec_legal'])\n",
    "\n",
    "X_test = np.matrix(test[['years_med']]).reshape(-1,1)\n",
    "y_test = np.array(test['rec_legal'])"
   ]
  },
  {
   "cell_type": "code",
   "execution_count": 44,
   "metadata": {
    "collapsed": true
   },
   "outputs": [],
   "source": [
    "# lr = LogisticRegression()\n",
    "# rfc = RandomForestClassifier()\n",
    "# gbc = GradientBoostingClassifier()"
   ]
  },
  {
   "cell_type": "markdown",
   "metadata": {},
   "source": [
    "## logistic"
   ]
  },
  {
   "cell_type": "code",
   "execution_count": null,
   "metadata": {
    "collapsed": true
   },
   "outputs": [],
   "source": [
    "lr = LogisticRegression()\n"
   ]
  },
  {
   "cell_type": "code",
   "execution_count": 19,
   "metadata": {},
   "outputs": [],
   "source": [
    "lr = LogisticRegression()\n",
    "lr.fit(X_train, y_train)\n",
    "lr_pred = lr.predict_proba(X_test)"
   ]
  },
  {
   "cell_type": "code",
   "execution_count": 311,
   "metadata": {},
   "outputs": [
    {
     "name": "stdout",
     "output_type": "stream",
     "text": [
      "train error: 0.075 | test error: 0.14\n",
      "train/test: 1.9\n"
     ]
    }
   ],
   "source": [
    "# 1 0.93509068167604759\n",
    "# 2 0.93509068167604759\n",
    "# 3 0.92521263289555977\n",
    "# 4 0.92509068167604769\n",
    "# 5 0.92509068167604769\n",
    "\n",
    "train_error, test_error = calc_metrics(X_train, y_train, X_test, y_test, lr)\n",
    "train_error, test_error = round(train_error, 3), round(test_error, 3)\n",
    "\n",
    "print('train error: {} | test error: {}'.format(train_error, test_error))\n",
    "print('train/test: {}'.format(round(test_error/train_error, 1)))"
   ]
  },
  {
   "cell_type": "code",
   "execution_count": 312,
   "metadata": {
    "collapsed": true
   },
   "outputs": [],
   "source": [
    "lr_probs = lr_pred[:, 1]\n",
    "lr_names = df_16['geography']\n",
    "\n",
    "df_lr_probs = pd.DataFrame(lr_names)\n",
    "df_lr_probs['lr_probability'] = lr_probs\n",
    "df_lr_probs = df_lr_probs.sort_values(by=['lr_probability'], ascending=False).reset_index()\n",
    "\n",
    "# df_lr_probs"
   ]
  },
  {
   "cell_type": "code",
   "execution_count": 313,
   "metadata": {},
   "outputs": [
    {
     "name": "stdout",
     "output_type": "stream",
     "text": [
      "0.625 0.880952380952\n"
     ]
    }
   ],
   "source": [
    "# 1 0.96875\n",
    "# 2 0.967261904762\n",
    "# 3 0.964285714286\n",
    "# 4 0.880952380952\n",
    "# 5 0.880952380952\n",
    "\n",
    "recall_pred = []\n",
    "for pred in lr_probs:\n",
    "    if pred > 0.3:\n",
    "        recall_pred.append(1)\n",
    "    else:\n",
    "        recall_pred.append(0)\n",
    "\n",
    "print(recall_score(y_test, recall_pred), roc_auc_score(y_test, lr_probs))"
   ]
  },
  {
   "cell_type": "markdown",
   "metadata": {},
   "source": [
    "## random forest"
   ]
  },
  {
   "cell_type": "code",
   "execution_count": 314,
   "metadata": {},
   "outputs": [
    {
     "name": "stdout",
     "output_type": "stream",
     "text": [
      "0.965 {'n_estimators': 18}\n"
     ]
    }
   ],
   "source": [
    "rfc = RandomForestClassifier(max_features=None, random_state=42)\n",
    "\n",
    "params = {'n_estimators':range(1,41)}\n",
    "\n",
    "clf = GridSearchCV(rfc, params)\n",
    "clf.fit(X_train, y_train)\n",
    "\n",
    "print (clf.best_score_, clf.best_params_)"
   ]
  },
  {
   "cell_type": "code",
   "execution_count": 315,
   "metadata": {
    "collapsed": true
   },
   "outputs": [],
   "source": [
    "rfc = RandomForestClassifier(n_estimators=18, max_features=None, random_state=42)\n",
    "rfc.fit(X_train, y_train)\n",
    "rfc_pred = rfc.predict_proba(X_test)"
   ]
  },
  {
   "cell_type": "code",
   "execution_count": 316,
   "metadata": {},
   "outputs": [
    {
     "name": "stdout",
     "output_type": "stream",
     "text": [
      "train error: 0.0 | test error: 0.1\n",
      "train/test: inf\n"
     ]
    },
    {
     "name": "stderr",
     "output_type": "stream",
     "text": [
      "/home/nate/anaconda3/lib/python3.6/site-packages/ipykernel_launcher.py:11: RuntimeWarning: divide by zero encountered in double_scalars\n",
      "  # This is added back by InteractiveShellApp.init_path()\n"
     ]
    }
   ],
   "source": [
    "# 1 0.93084115071919948\n",
    "# 2 0.95510318949343342\n",
    "# 3 0.97523764853033135\n",
    "# 4 0.96523139462163843\n",
    "# 5 0.97010944340212624\n",
    "\n",
    "train_error, test_error = calc_metrics(X_train, y_train, X_test, y_test, rfc)\n",
    "train_error, test_error = round(train_error), round(test_error, 3)\n",
    "\n",
    "print('train error: {} | test error: {}'.format(train_error, test_error))\n",
    "print('train/test: {}'.format(round(test_error/train_error, 1)))"
   ]
  },
  {
   "cell_type": "code",
   "execution_count": 317,
   "metadata": {
    "collapsed": true
   },
   "outputs": [],
   "source": [
    "rfc_probs = rfc_pred[:, 1]\n",
    "rfc_names = df_16['geography']\n",
    "\n",
    "df_rfc_probs = pd.DataFrame(rfc_names)\n",
    "df_rfc_probs['rfc_probability'] = rfc_probs\n",
    "df_rfc_probs = df_rfc_probs.sort_values(by=['rfc_probability'], ascending=False).reset_index()\n",
    "\n",
    "# df_rfc_probs"
   ]
  },
  {
   "cell_type": "code",
   "execution_count": 318,
   "metadata": {},
   "outputs": [
    {
     "name": "stdout",
     "output_type": "stream",
     "text": [
      "0.625 0.901785714286\n"
     ]
    }
   ],
   "source": [
    "# 1 0.65625\n",
    "# 2 0.857142857143\n",
    "# 3 0.901785714286 \n",
    "# 4 0.915178571429\n",
    "# 5 0.90625\n",
    "\n",
    "recall_pred = []\n",
    "for pred in rfc_probs:\n",
    "    if pred > 0.2:\n",
    "        recall_pred.append(1)\n",
    "    else:\n",
    "        recall_pred.append(0)\n",
    "\n",
    "print(recall_score(y_test, recall_pred), roc_auc_score(y_test, rfc_probs))"
   ]
  },
  {
   "cell_type": "markdown",
   "metadata": {},
   "source": [
    "## gradient boost"
   ]
  },
  {
   "cell_type": "code",
   "execution_count": 319,
   "metadata": {},
   "outputs": [
    {
     "name": "stdout",
     "output_type": "stream",
     "text": [
      "0.96 {'learning_rate': 0.1, 'n_estimators': 6}\n"
     ]
    }
   ],
   "source": [
    "gbc = GradientBoostingClassifier(max_depth=2, random_state=42)\n",
    "\n",
    "learns = [x*0.05 for x in range(1,21)]\n",
    "\n",
    "params = {'n_estimators':range(1,11), 'learning_rate':learns}\n",
    "\n",
    "clf = GridSearchCV(gbc, params)\n",
    "clf.fit(X_train, y_train)\n",
    "\n",
    "print (clf.best_score_, clf.best_params_)"
   ]
  },
  {
   "cell_type": "code",
   "execution_count": 320,
   "metadata": {
    "collapsed": true
   },
   "outputs": [],
   "source": [
    "gbc = GradientBoostingClassifier(n_estimators=6, learning_rate=0.1, max_depth= 2, random_state=42)\n",
    "gbc.fit(X_train, y_train)\n",
    "gbc_pred = gbc.predict_proba(X_test)"
   ]
  },
  {
   "cell_type": "code",
   "execution_count": 321,
   "metadata": {},
   "outputs": [
    {
     "name": "stdout",
     "output_type": "stream",
     "text": [
      "train error: 0.03 | test error: 0.12\n",
      "train/test: 4.0\n"
     ]
    }
   ],
   "source": [
    "# 1 0.9402188868042527\n",
    "# 2 0.96035334584115062\n",
    "# 3 0.96035334584115062\n",
    "# 4 0.96035334584115062\n",
    "# 5 0.96035334584115062\n",
    "\n",
    "train_error, test_error = calc_metrics(X_train, y_train, X_test, y_test, gbc)\n",
    "train_error, test_error = round(train_error, 3), round(test_error, 3)\n",
    "\n",
    "print('train error: {} | test error: {}'.format(train_error, test_error))\n",
    "print('train/test: {}'.format(round(test_error/train_error, 1)))"
   ]
  },
  {
   "cell_type": "code",
   "execution_count": 322,
   "metadata": {
    "collapsed": true
   },
   "outputs": [],
   "source": [
    "gbc_probs = gbc_pred[:, 1]\n",
    "gbc_names = df_16['geography']\n",
    "\n",
    "df_gbc_probs = pd.DataFrame(gbc_names)\n",
    "df_gbc_probs['gbc_probability'] = gbc_probs\n",
    "df_gbc_probs = df_gbc_probs.sort_values(by=['gbc_probability'], ascending=False).reset_index()\n",
    "\n",
    "# df_gbc_probs"
   ]
  },
  {
   "cell_type": "code",
   "execution_count": 323,
   "metadata": {},
   "outputs": [
    {
     "name": "stdout",
     "output_type": "stream",
     "text": [
      "0.625 0.950892857143\n"
     ]
    }
   ],
   "source": [
    "# 1 0.922619047619\n",
    "# 2 0.952380952381\n",
    "# 3 0.950892857143\n",
    "# 4 0.950892857143\n",
    "# 5 0.950892857143\n",
    "\n",
    "recall_pred = []\n",
    "for pred in gbc_probs:\n",
    "    if pred > 0.2:\n",
    "        recall_pred.append(1)\n",
    "    else:\n",
    "        recall_pred.append(0)\n",
    "\n",
    "print(recall_score(y_test, recall_pred), roc_auc_score(y_test, gbc_probs))"
   ]
  },
  {
   "cell_type": "markdown",
   "metadata": {},
   "source": [
    "## Reciever Operating Characteristics Graph"
   ]
  },
  {
   "cell_type": "code",
   "execution_count": 205,
   "metadata": {
    "collapsed": true
   },
   "outputs": [],
   "source": [
    "false_lr, true_lr, _ = roc_curve(y_test, lr_probs)\n",
    "false_rfc, true_rfc, _ = roc_curve(y_test, rfc_probs)\n",
    "false_gbc, true_gbc, _ = roc_curve(y_test, gbc_probs)\n",
    "\n",
    "lr_auc = round(roc_auc_score(y_test, lr_probs), 4)\n",
    "rfc_auc = round(roc_auc_score(y_test, rfc_probs), 4)\n",
    "gbc_auc = round(roc_auc_score(y_test, gbc_probs), 4)"
   ]
  },
  {
   "cell_type": "code",
   "execution_count": 206,
   "metadata": {},
   "outputs": [
    {
     "data": {
      "image/png": "[encoded data removed]",
      "text/plain": [
       "<matplotlib.figure.Figure at 0x7f136e3a2470>"
      ]
     },
     "metadata": {},
     "output_type": "display_data"
    }
   ],
   "source": [
    "plt.figure(figsize=(15,10))\n",
    "plt.plot(\n",
    "    false_lr, true_lr, 'r',\n",
    "    false_rfc, true_rfc, 'b',\n",
    "    false_gbc, true_gbc, 'g',)\n",
    "plt.legend(('Log Regression AUC = {}'.format(lr_auc),\n",
    "           'Random Forest AUC = {}'.format(rfc_auc),\n",
    "           'Gradient Boosting AUC = {}'.format(gbc_auc)),\n",
    "           loc = 'lower right', edgecolor='k', prop={'size': 24})\n",
    "plt.plot([0, 1], [0, 1],'b--')\n",
    "plt.xlim([-0.01, 1.01])\n",
    "plt.ylim([-0.01, 1.01])\n",
    "plt.title('ROC Curves', fontweight='bold', fontsize=36)\n",
    "plt.ylabel('True Positive Rate', fontweight='bold', fontsize=24)\n",
    "plt.xlabel('False Positive Rate', fontweight='bold', fontsize=24)\n",
    "plt.grid()\n",
    "plt.show()"
   ]
  },
  {
   "cell_type": "markdown",
   "metadata": {},
   "source": [
    "# Voting"
   ]
  },
  {
   "cell_type": "code",
   "execution_count": 144,
   "metadata": {
    "collapsed": true
   },
   "outputs": [],
   "source": [
    "def vote(df_list, n_highest):\n",
    "    \n",
    "    '''\n",
    "    take list of model proba results and return voting results for n predicted states\n",
    "    \n",
    "    return a new df with states listed by descending voting scores\n",
    "    '''\n",
    "    \n",
    "    scores = np.zeros((50,1))\n",
    "\n",
    "    for proba_rank in df_list:\n",
    "        for rank, state in proba_rank.iterrows():            \n",
    "            if rank < n_highest:                \n",
    "                # state[0] is state's actual index\n",
    "                scores[state[0]]+=1\n",
    "                \n",
    "    \n",
    "    state_scores = test['geography'].to_frame()\n",
    "    state_scores['score'] = scores\n",
    "    \n",
    "    return state_scores.sort_values(by='score', ascending=False)"
   ]
  },
  {
   "cell_type": "code",
   "execution_count": 189,
   "metadata": {},
   "outputs": [
    {
     "data": {
      "text/html": [
       "<div>\n",
       "<style scoped>\n",
       "    .dataframe tbody tr th:only-of-type {\n",
       "        vertical-align: middle;\n",
       "    }\n",
       "\n",
       "    .dataframe tbody tr th {\n",
       "        vertical-align: top;\n",
       "    }\n",
       "\n",
       "    .dataframe thead th {\n",
       "        text-align: right;\n",
       "    }\n",
       "</style>\n",
       "<table border=\"1\" class=\"dataframe\">\n",
       "  <thead>\n",
       "    <tr style=\"text-align: right;\">\n",
       "      <th></th>\n",
       "      <th>geography</th>\n",
       "      <th>score</th>\n",
       "    </tr>\n",
       "  </thead>\n",
       "  <tbody>\n",
       "    <tr>\n",
       "      <th>25</th>\n",
       "      <td>Montana</td>\n",
       "      <td>3.0</td>\n",
       "    </tr>\n",
       "    <tr>\n",
       "      <th>44</th>\n",
       "      <td>Vermont</td>\n",
       "      <td>3.0</td>\n",
       "    </tr>\n",
       "    <tr>\n",
       "      <th>27</th>\n",
       "      <td>Nevada</td>\n",
       "      <td>3.0</td>\n",
       "    </tr>\n",
       "    <tr>\n",
       "      <th>4</th>\n",
       "      <td>California</td>\n",
       "      <td>3.0</td>\n",
       "    </tr>\n",
       "    <tr>\n",
       "      <th>5</th>\n",
       "      <td>Colorado</td>\n",
       "      <td>3.0</td>\n",
       "    </tr>\n",
       "    <tr>\n",
       "      <th>1</th>\n",
       "      <td>Alaska</td>\n",
       "      <td>3.0</td>\n",
       "    </tr>\n",
       "    <tr>\n",
       "      <th>36</th>\n",
       "      <td>Oregon</td>\n",
       "      <td>3.0</td>\n",
       "    </tr>\n",
       "    <tr>\n",
       "      <th>46</th>\n",
       "      <td>Washington</td>\n",
       "      <td>3.0</td>\n",
       "    </tr>\n",
       "    <tr>\n",
       "      <th>18</th>\n",
       "      <td>Maine</td>\n",
       "      <td>3.0</td>\n",
       "    </tr>\n",
       "    <tr>\n",
       "      <th>28</th>\n",
       "      <td>New Hampshire</td>\n",
       "      <td>2.0</td>\n",
       "    </tr>\n",
       "    <tr>\n",
       "      <th>22</th>\n",
       "      <td>Minnesota</td>\n",
       "      <td>2.0</td>\n",
       "    </tr>\n",
       "    <tr>\n",
       "      <th>33</th>\n",
       "      <td>North Dakota</td>\n",
       "      <td>2.0</td>\n",
       "    </tr>\n",
       "    <tr>\n",
       "      <th>48</th>\n",
       "      <td>Wisconsin</td>\n",
       "      <td>2.0</td>\n",
       "    </tr>\n",
       "    <tr>\n",
       "      <th>10</th>\n",
       "      <td>Hawaii</td>\n",
       "      <td>2.0</td>\n",
       "    </tr>\n",
       "    <tr>\n",
       "      <th>21</th>\n",
       "      <td>Michigan</td>\n",
       "      <td>1.0</td>\n",
       "    </tr>\n",
       "    <tr>\n",
       "      <th>20</th>\n",
       "      <td>Massachusetts</td>\n",
       "      <td>1.0</td>\n",
       "    </tr>\n",
       "    <tr>\n",
       "      <th>2</th>\n",
       "      <td>Arizona</td>\n",
       "      <td>1.0</td>\n",
       "    </tr>\n",
       "    <tr>\n",
       "      <th>6</th>\n",
       "      <td>Connecticut</td>\n",
       "      <td>1.0</td>\n",
       "    </tr>\n",
       "    <tr>\n",
       "      <th>8</th>\n",
       "      <td>Florida</td>\n",
       "      <td>1.0</td>\n",
       "    </tr>\n",
       "    <tr>\n",
       "      <th>41</th>\n",
       "      <td>Tennessee</td>\n",
       "      <td>1.0</td>\n",
       "    </tr>\n",
       "    <tr>\n",
       "      <th>40</th>\n",
       "      <td>South Dakota</td>\n",
       "      <td>1.0</td>\n",
       "    </tr>\n",
       "    <tr>\n",
       "      <th>32</th>\n",
       "      <td>North Carolina</td>\n",
       "      <td>1.0</td>\n",
       "    </tr>\n",
       "    <tr>\n",
       "      <th>38</th>\n",
       "      <td>Rhode Island</td>\n",
       "      <td>0.0</td>\n",
       "    </tr>\n",
       "    <tr>\n",
       "      <th>43</th>\n",
       "      <td>Utah</td>\n",
       "      <td>0.0</td>\n",
       "    </tr>\n",
       "    <tr>\n",
       "      <th>39</th>\n",
       "      <td>South Carolina</td>\n",
       "      <td>0.0</td>\n",
       "    </tr>\n",
       "    <tr>\n",
       "      <th>37</th>\n",
       "      <td>Pennsylvania</td>\n",
       "      <td>0.0</td>\n",
       "    </tr>\n",
       "    <tr>\n",
       "      <th>47</th>\n",
       "      <td>West Virginia</td>\n",
       "      <td>0.0</td>\n",
       "    </tr>\n",
       "    <tr>\n",
       "      <th>35</th>\n",
       "      <td>Oklahoma</td>\n",
       "      <td>0.0</td>\n",
       "    </tr>\n",
       "    <tr>\n",
       "      <th>42</th>\n",
       "      <td>Texas</td>\n",
       "      <td>0.0</td>\n",
       "    </tr>\n",
       "    <tr>\n",
       "      <th>34</th>\n",
       "      <td>Ohio</td>\n",
       "      <td>0.0</td>\n",
       "    </tr>\n",
       "    <tr>\n",
       "      <th>45</th>\n",
       "      <td>Virginia</td>\n",
       "      <td>0.0</td>\n",
       "    </tr>\n",
       "    <tr>\n",
       "      <th>0</th>\n",
       "      <td>Alabama</td>\n",
       "      <td>0.0</td>\n",
       "    </tr>\n",
       "    <tr>\n",
       "      <th>31</th>\n",
       "      <td>New York</td>\n",
       "      <td>0.0</td>\n",
       "    </tr>\n",
       "    <tr>\n",
       "      <th>30</th>\n",
       "      <td>New Mexico</td>\n",
       "      <td>0.0</td>\n",
       "    </tr>\n",
       "    <tr>\n",
       "      <th>3</th>\n",
       "      <td>Arkansas</td>\n",
       "      <td>0.0</td>\n",
       "    </tr>\n",
       "    <tr>\n",
       "      <th>7</th>\n",
       "      <td>Delaware</td>\n",
       "      <td>0.0</td>\n",
       "    </tr>\n",
       "    <tr>\n",
       "      <th>9</th>\n",
       "      <td>Georgia</td>\n",
       "      <td>0.0</td>\n",
       "    </tr>\n",
       "    <tr>\n",
       "      <th>11</th>\n",
       "      <td>Idaho</td>\n",
       "      <td>0.0</td>\n",
       "    </tr>\n",
       "    <tr>\n",
       "      <th>12</th>\n",
       "      <td>Illinois</td>\n",
       "      <td>0.0</td>\n",
       "    </tr>\n",
       "    <tr>\n",
       "      <th>13</th>\n",
       "      <td>Indiana</td>\n",
       "      <td>0.0</td>\n",
       "    </tr>\n",
       "    <tr>\n",
       "      <th>14</th>\n",
       "      <td>Iowa</td>\n",
       "      <td>0.0</td>\n",
       "    </tr>\n",
       "    <tr>\n",
       "      <th>15</th>\n",
       "      <td>Kansas</td>\n",
       "      <td>0.0</td>\n",
       "    </tr>\n",
       "    <tr>\n",
       "      <th>16</th>\n",
       "      <td>Kentucky</td>\n",
       "      <td>0.0</td>\n",
       "    </tr>\n",
       "    <tr>\n",
       "      <th>17</th>\n",
       "      <td>Louisiana</td>\n",
       "      <td>0.0</td>\n",
       "    </tr>\n",
       "    <tr>\n",
       "      <th>19</th>\n",
       "      <td>Maryland</td>\n",
       "      <td>0.0</td>\n",
       "    </tr>\n",
       "    <tr>\n",
       "      <th>23</th>\n",
       "      <td>Mississippi</td>\n",
       "      <td>0.0</td>\n",
       "    </tr>\n",
       "    <tr>\n",
       "      <th>24</th>\n",
       "      <td>Missouri</td>\n",
       "      <td>0.0</td>\n",
       "    </tr>\n",
       "    <tr>\n",
       "      <th>26</th>\n",
       "      <td>Nebraska</td>\n",
       "      <td>0.0</td>\n",
       "    </tr>\n",
       "    <tr>\n",
       "      <th>29</th>\n",
       "      <td>New Jersey</td>\n",
       "      <td>0.0</td>\n",
       "    </tr>\n",
       "    <tr>\n",
       "      <th>49</th>\n",
       "      <td>Wyoming</td>\n",
       "      <td>0.0</td>\n",
       "    </tr>\n",
       "  </tbody>\n",
       "</table>\n",
       "</div>"
      ],
      "text/plain": [
       "         geography  score\n",
       "25         Montana    3.0\n",
       "44         Vermont    3.0\n",
       "27          Nevada    3.0\n",
       "4       California    3.0\n",
       "5         Colorado    3.0\n",
       "1           Alaska    3.0\n",
       "36          Oregon    3.0\n",
       "46      Washington    3.0\n",
       "18           Maine    3.0\n",
       "28   New Hampshire    2.0\n",
       "22       Minnesota    2.0\n",
       "33    North Dakota    2.0\n",
       "48       Wisconsin    2.0\n",
       "10          Hawaii    2.0\n",
       "21        Michigan    1.0\n",
       "20   Massachusetts    1.0\n",
       "2          Arizona    1.0\n",
       "6      Connecticut    1.0\n",
       "8          Florida    1.0\n",
       "41       Tennessee    1.0\n",
       "40    South Dakota    1.0\n",
       "32  North Carolina    1.0\n",
       "38    Rhode Island    0.0\n",
       "43            Utah    0.0\n",
       "39  South Carolina    0.0\n",
       "37    Pennsylvania    0.0\n",
       "47   West Virginia    0.0\n",
       "35        Oklahoma    0.0\n",
       "42           Texas    0.0\n",
       "34            Ohio    0.0\n",
       "45        Virginia    0.0\n",
       "0          Alabama    0.0\n",
       "31        New York    0.0\n",
       "30      New Mexico    0.0\n",
       "3         Arkansas    0.0\n",
       "7         Delaware    0.0\n",
       "9          Georgia    0.0\n",
       "11           Idaho    0.0\n",
       "12        Illinois    0.0\n",
       "13         Indiana    0.0\n",
       "14            Iowa    0.0\n",
       "15          Kansas    0.0\n",
       "16        Kentucky    0.0\n",
       "17       Louisiana    0.0\n",
       "19        Maryland    0.0\n",
       "23     Mississippi    0.0\n",
       "24        Missouri    0.0\n",
       "26        Nebraska    0.0\n",
       "29      New Jersey    0.0\n",
       "49         Wyoming    0.0"
      ]
     },
     "execution_count": 189,
     "metadata": {},
     "output_type": "execute_result"
    }
   ],
   "source": [
    "df_list = [df_lr_probs, df_gbc_probs, df_rfc_probs]\n",
    "\n",
    "vote_results = vote(df_list, 15)\n",
    "vote_results"
   ]
  },
  {
   "cell_type": "markdown",
   "metadata": {},
   "source": [
    "# Thank you David"
   ]
  },
  {
   "cell_type": "code",
   "execution_count": 284,
   "metadata": {
    "collapsed": true
   },
   "outputs": [],
   "source": [
    "def calc_train_error(X_train, y_train, model):\n",
    "    '''returns in-sample error for already fit model.'''\n",
    "    predictions = model.predict(X_train)\n",
    "    mse = mean_squared_error(y_train, predictions)\n",
    "    rmse = np.sqrt(mse)\n",
    "    return mse\n",
    "    \n",
    "def calc_validation_error(X_test, y_test, model):\n",
    "    '''returns out-of-sample error for already fit model.'''\n",
    "    predictions = model.predict(X_test)\n",
    "    mse = mean_squared_error(y_test, predictions)\n",
    "    rmse = np.sqrt(mse)\n",
    "    return mse\n",
    "    \n",
    "def calc_metrics(X_train, y_train, X_test, y_test, model):\n",
    "    '''fits model and returns the RMSE for in-sample error and out-of-sample error'''\n",
    "    model.fit(X_train, y_train)\n",
    "    train_error = calc_train_error(X_train, y_train, model)\n",
    "    validation_error = calc_validation_error(X_test, y_test, model)\n",
    "    return train_error, validation_error"
   ]
  },
  {
   "cell_type": "code",
   "execution_count": null,
   "metadata": {
    "collapsed": true
   },
   "outputs": [],
   "source": [
    "train_error, test_error = calc_metrics(X_train, y_train, X_test, y_test, lr)\n",
    "train_error, test_error = round(train_error, 3), round(test_error, 3)\n",
    "\n",
    "print('train error: {} | test error: {}'.format(train_error, test_error))\n",
    "print('train/test: {}'.format(round(test_error/train_error, 1)))"
   ]
  },
  {
   "cell_type": "code",
   "execution_count": null,
   "metadata": {
    "collapsed": true
   },
   "outputs": [],
   "source": []
  }
 ],
 "metadata": {
  "kernelspec": {
   "display_name": "Python 3",
   "language": "python",
   "name": "python3"
  },
  "language_info": {
   "codemirror_mode": {
    "name": "ipython",
    "version": 3
   },
   "file_extension": ".py",
   "mimetype": "text/x-python",
   "name": "python",
   "nbconvert_exporter": "python",
   "pygments_lexer": "ipython3",
   "version": "3.6.3"
  },
  "toc": {
   "nav_menu": {},
   "number_sections": true,
   "sideBar": true,
   "skip_h1_title": false,
   "toc_cell": false,
   "toc_position": {},
   "toc_section_display": "block",
   "toc_window_display": false
  }
 },
 "nbformat": 4,
 "nbformat_minor": 2
}
