{
 "cells": [
  {
   "cell_type": "markdown",
   "metadata": {},
   "source": [
    "# Import libs and data"
   ]
  },
  {
   "cell_type": "code",
   "execution_count": 165,
   "metadata": {
    "collapsed": true
   },
   "outputs": [],
   "source": [
    "import pandas as pd\n",
    "import numpy as np\n",
    "import matplotlib.pyplot as plt\n",
    "\n",
    "from sklearn.model_selection import learning_curve\n",
    "from sklearn.model_selection import cross_val_score\n",
    "from sklearn.model_selection import GridSearchCV\n",
    "from sklearn.model_selection import KFold\n",
    "from sklearn.model_selection import StratifiedKFold\n",
    "\n",
    "from sklearn.tree import DecisionTreeClassifier\n",
    "from sklearn.linear_model import LogisticRegression\n",
    "from sklearn.ensemble import RandomForestClassifier\n",
    "from sklearn.ensemble import GradientBoostingClassifier\n",
    "\n",
    "from sklearn.metrics import recall_score\n",
    "from sklearn.metrics import f1_score\n",
    "from sklearn.metrics import roc_auc_score\n",
    "from sklearn.metrics import roc_curve\n",
    "from sklearn.metrics import mean_squared_error\n",
    "\n",
    "%matplotlib inline"
   ]
  },
  {
   "cell_type": "code",
   "execution_count": 166,
   "metadata": {
    "collapsed": true
   },
   "outputs": [],
   "source": [
    "df_12 = pd.read_csv('/home/nate/ds/metis/class_work/projects/clean_data/df_12.csv')\n",
    "df_13 = pd.read_csv('/home/nate/ds/metis/class_work/projects/clean_data/df_13.csv')\n",
    "df_14 = pd.read_csv('/home/nate/ds/metis/class_work/projects/clean_data/df_14.csv')\n",
    "df_15 = pd.read_csv('/home/nate/ds/metis/class_work/projects/clean_data/df_15.csv')\n",
    "df_16 = pd.read_csv('/home/nate/ds/metis/class_work/projects/clean_data/df_16.csv')"
   ]
  },
  {
   "cell_type": "markdown",
   "metadata": {},
   "source": [
    "# Split (train: '12-'15, test: '16)"
   ]
  },
  {
   "cell_type": "code",
   "execution_count": 200,
   "metadata": {
    "collapsed": true
   },
   "outputs": [],
   "source": [
    "test = df_16\n",
    "\n",
    "train_years = [df_12, df_13, df_14, df_15]\n",
    "train_whole = pd.concat(train_years).reset_index(drop=True)"
   ]
  },
  {
   "cell_type": "code",
   "execution_count": 168,
   "metadata": {},
   "outputs": [],
   "source": [
    "X_train = np.matrix(train_whole.loc[:, 'white_ratio':'years_med']).reshape(-1,12)\n",
    "y_train = np.array(train_whole['rec_legal'])\n",
    "\n",
    "X_test = np.matrix(test.loc[:, 'white_ratio':'years_med']).reshape(-1,12)\n",
    "y_test = np.array(test['rec_legal'])"
   ]
  },
  {
   "cell_type": "markdown",
   "metadata": {},
   "source": [
    "# Decision Trees to find features"
   ]
  },
  {
   "cell_type": "code",
   "execution_count": 169,
   "metadata": {},
   "outputs": [
    {
     "data": {
      "text/plain": [
       "array([ 0.05396238,  0.        ,  0.31028369,  0.17730496,  0.        ,\n",
       "        0.        ,  0.12334258,  0.        ,  0.        ,  0.        ,\n",
       "        0.        ,  0.33510638])"
      ]
     },
     "execution_count": 169,
     "metadata": {},
     "output_type": "execute_result"
    }
   ],
   "source": [
    "dtc = DecisionTreeClassifier(random_state=42)\n",
    "\n",
    "dtc.fit(X_train, y_train)\n",
    "\n",
    "dtc.feature_importances_"
   ]
  },
  {
   "cell_type": "code",
   "execution_count": 45,
   "metadata": {
    "collapsed": true
   },
   "outputs": [],
   "source": [
    "# 'white_ratio', 'college_ratio', 'eng_ratio', 'married_median', 'years_med'"
   ]
  },
  {
   "cell_type": "markdown",
   "metadata": {},
   "source": [
    "# CV to tune"
   ]
  },
  {
   "cell_type": "code",
   "execution_count": 245,
   "metadata": {},
   "outputs": [],
   "source": [
    "# starting with 2 most important features\n",
    "\n",
    "X_train = np.array(train_whole[\n",
    "    ['white_ratio','college_ratio','eng_ratio','married_median','years_med']]).reshape(-1,5)\n",
    "y_train = np.array(train_whole['rec_legal'])\n",
    "\n",
    "X_test = np.array(test[\n",
    "    ['white_ratio','college_ratio','eng_ratio','married_median','years_med']]).reshape(-1,5)\n",
    "y_test = np.array(test['rec_legal'])"
   ]
  },
  {
   "cell_type": "code",
   "execution_count": 44,
   "metadata": {
    "collapsed": true
   },
   "outputs": [],
   "source": [
    "# lr = LogisticRegression()\n",
    "# rfc = RandomForestClassifier()\n",
    "# gbc = GradientBoostingClassifier()"
   ]
  },
  {
   "cell_type": "code",
   "execution_count": 39,
   "metadata": {
    "collapsed": true
   },
   "outputs": [],
   "source": [
    "legal_16 = ['Alaska', 'Colorado', 'Oregon', 'Washington', 'California', 'Massachusetts', 'Maine', 'Utah']"
   ]
  },
  {
   "cell_type": "code",
   "execution_count": 184,
   "metadata": {
    "collapsed": true
   },
   "outputs": [],
   "source": [
    "def recall_cv(model):\n",
    "    skf = StratifiedKFold(n_splits=4,random_state=42)\n",
    "\n",
    "    heads = []\n",
    "\n",
    "    for train, test in skf.split(X_train, y_train):\n",
    "\n",
    "        X = X_train[train]\n",
    "        y = y_train[train]\n",
    "        X_t = X_train[test]\n",
    "        y_t = y_train[test]\n",
    "\n",
    "        names = []\n",
    "\n",
    "#         for i in train:\n",
    "#             X.append(X_train[i])\n",
    "#             y.append(y_train[i])\n",
    "\n",
    "        for j in test:\n",
    "#             X_t.append(X_train[j])\n",
    "#             y_t.append(y_train[j])\n",
    "            names.append(train_whole['geography'][j])\n",
    "\n",
    "        X = np.matrix(X)\n",
    "        X_t = np.matrix(X_t)\n",
    "\n",
    "        model.fit(X,y)\n",
    "        pred = model.predict_proba(X_t)\n",
    "        probs = pred[:, 1]\n",
    "\n",
    "        df_probs = pd.DataFrame(names)\n",
    "        df_probs['probability'] = probs\n",
    "        df_probs = df_probs.sort_values(by=['probability'], ascending=False).reset_index()\n",
    "\n",
    "        heads.append(df_probs.head(8))\n",
    "        \n",
    "    scores = []\n",
    "    for h in heads:\n",
    "        score = 0\n",
    "        for state in h[0]:\n",
    "            if state in legal_16:\n",
    "                score += 1\n",
    "        scores.append(score/8)\n",
    "        \n",
    "    return np.mean(scores)"
   ]
  },
  {
   "cell_type": "code",
   "execution_count": 240,
   "metadata": {},
   "outputs": [
    {
     "name": "stdout",
     "output_type": "stream",
     "text": [
      "0.97 {'n_estimators': 16}\n"
     ]
    }
   ],
   "source": [
    "rfc = RandomForestClassifier(max_features=None, random_state=42)\n",
    "\n",
    "params = {'n_estimators':range(1,41)}\n",
    "\n",
    "clf = GridSearchCV(rfc, params)\n",
    "clf.fit(X_train, y_train)\n",
    "\n",
    "print (clf.best_score_, clf.best_params_)"
   ]
  },
  {
   "cell_type": "code",
   "execution_count": 241,
   "metadata": {},
   "outputs": [
    {
     "name": "stdout",
     "output_type": "stream",
     "text": [
      "0.96 {'learning_rate': 0.1, 'n_estimators': 6}\n"
     ]
    }
   ],
   "source": [
    "gbc = GradientBoostingClassifier(max_depth=2, random_state=42)\n",
    "\n",
    "learns = [x*0.05 for x in range(1,21)]\n",
    "\n",
    "params = {'n_estimators':range(1,11), 'learning_rate':learns}\n",
    "\n",
    "clf = GridSearchCV(gbc, params)\n",
    "clf.fit(X_train, y_train)\n",
    "\n",
    "print (clf.best_score_, clf.best_params_)"
   ]
  },
  {
   "cell_type": "code",
   "execution_count": 242,
   "metadata": {},
   "outputs": [
    {
     "data": {
      "text/plain": [
       "0.75"
      ]
     },
     "execution_count": 242,
     "metadata": {},
     "output_type": "execute_result"
    }
   ],
   "source": [
    "recall_cv(LogisticRegression())"
   ]
  },
  {
   "cell_type": "code",
   "execution_count": 243,
   "metadata": {},
   "outputs": [
    {
     "data": {
      "text/plain": [
       "0.625"
      ]
     },
     "execution_count": 243,
     "metadata": {},
     "output_type": "execute_result"
    }
   ],
   "source": [
    "recall_cv(RandomForestClassifier(n_estimators=16, max_features=None, random_state=42))"
   ]
  },
  {
   "cell_type": "code",
   "execution_count": 244,
   "metadata": {},
   "outputs": [
    {
     "data": {
      "text/plain": [
       "0.6875"
      ]
     },
     "execution_count": 244,
     "metadata": {},
     "output_type": "execute_result"
    }
   ],
   "source": [
    "recall_cv(GradientBoostingClassifier(n_estimators=6, learning_rate=0.1, max_depth= 2, random_state=42))"
   ]
  },
  {
   "cell_type": "markdown",
   "metadata": {},
   "source": [
    "## logistic"
   ]
  },
  {
   "cell_type": "code",
   "execution_count": 246,
   "metadata": {
    "collapsed": true
   },
   "outputs": [],
   "source": [
    "lr = LogisticRegression()\n",
    "lr.fit(X_train, y_train)\n",
    "lr_pred = lr.predict_proba(X_test)"
   ]
  },
  {
   "cell_type": "code",
   "execution_count": 248,
   "metadata": {},
   "outputs": [],
   "source": [
    "lr_probs = lr_pred[:, 1]\n",
    "lr_names = df_16['geography']\n",
    "\n",
    "df_lr_probs = pd.DataFrame(lr_names)\n",
    "df_lr_probs['lr_probability'] = lr_probs\n",
    "df_lr_probs = df_lr_probs.sort_values(by=['lr_probability'], ascending=False).reset_index()\n",
    "\n",
    "#df_lr_probs"
   ]
  },
  {
   "cell_type": "code",
   "execution_count": 249,
   "metadata": {},
   "outputs": [
    {
     "name": "stdout",
     "output_type": "stream",
     "text": [
      "0.875 0.880952380952\n"
     ]
    }
   ],
   "source": [
    "recall_pred = []\n",
    "for pred in lr_probs:\n",
    "    if pred > 0.2:\n",
    "        recall_pred.append(1)\n",
    "    else:\n",
    "        recall_pred.append(0)\n",
    "\n",
    "print(recall_score(y_test, recall_pred), roc_auc_score(y_test, lr_probs))"
   ]
  },
  {
   "cell_type": "markdown",
   "metadata": {},
   "source": [
    "## random forest"
   ]
  },
  {
   "cell_type": "code",
   "execution_count": 250,
   "metadata": {
    "collapsed": true
   },
   "outputs": [],
   "source": [
    "rfc = RandomForestClassifier(n_estimators=16, max_features=None, random_state=42)\n",
    "rfc.fit(X_train, y_train)\n",
    "rfc_pred = rfc.predict_proba(X_test)"
   ]
  },
  {
   "cell_type": "code",
   "execution_count": 258,
   "metadata": {},
   "outputs": [],
   "source": [
    "rfc_probs = rfc_pred[:, 1]\n",
    "rfc_names = df_16['geography']\n",
    "\n",
    "df_rfc_probs = pd.DataFrame(rfc_names)\n",
    "df_rfc_probs['rfc_probability'] = rfc_probs\n",
    "df_rfc_probs = df_rfc_probs.sort_values(by=['rfc_probability'], ascending=False).reset_index()\n",
    "\n",
    "#df_rfc_probs.head(10)"
   ]
  },
  {
   "cell_type": "code",
   "execution_count": 256,
   "metadata": {},
   "outputs": [
    {
     "name": "stdout",
     "output_type": "stream",
     "text": [
      "0.75 0.90625\n"
     ]
    }
   ],
   "source": [
    "recall_pred = []\n",
    "for pred in rfc_probs:\n",
    "    if pred > 0.2:\n",
    "        recall_pred.append(1)\n",
    "    else:\n",
    "        recall_pred.append(0)\n",
    "\n",
    "print(recall_score(y_test, recall_pred), roc_auc_score(y_test, rfc_probs))"
   ]
  },
  {
   "cell_type": "markdown",
   "metadata": {},
   "source": [
    "## gradient boost"
   ]
  },
  {
   "cell_type": "code",
   "execution_count": 259,
   "metadata": {
    "collapsed": true
   },
   "outputs": [],
   "source": [
    "gbc = GradientBoostingClassifier(n_estimators=6, learning_rate=0.1, max_depth= 2, random_state=42)\n",
    "gbc.fit(X_train, y_train)\n",
    "gbc_pred = gbc.predict_proba(X_test)"
   ]
  },
  {
   "cell_type": "code",
   "execution_count": 264,
   "metadata": {},
   "outputs": [],
   "source": [
    "gbc_probs = gbc_pred[:, 1]\n",
    "gbc_names = df_16['geography']\n",
    "\n",
    "df_gbc_probs = pd.DataFrame(gbc_names)\n",
    "df_gbc_probs['gbc_probability'] = gbc_probs\n",
    "df_gbc_probs = df_gbc_probs.sort_values(by=['gbc_probability'], ascending=False).reset_index()\n",
    "\n",
    "#df_gbc_probs.head(10)"
   ]
  },
  {
   "cell_type": "code",
   "execution_count": 265,
   "metadata": {},
   "outputs": [
    {
     "name": "stdout",
     "output_type": "stream",
     "text": [
      "0.625 0.950892857143\n"
     ]
    }
   ],
   "source": [
    "recall_pred = []\n",
    "for pred in gbc_probs:\n",
    "    if pred > 0.125:\n",
    "        recall_pred.append(1)\n",
    "    else:\n",
    "        recall_pred.append(0)\n",
    "\n",
    "print(recall_score(y_test, recall_pred), roc_auc_score(y_test, gbc_probs))"
   ]
  },
  {
   "cell_type": "markdown",
   "metadata": {},
   "source": [
    "## Reciever Operating Characteristics Graph"
   ]
  },
  {
   "cell_type": "code",
   "execution_count": 266,
   "metadata": {
    "collapsed": true
   },
   "outputs": [],
   "source": [
    "false_lr, true_lr, _ = roc_curve(y_test, lr_probs)\n",
    "false_rfc, true_rfc, _ = roc_curve(y_test, rfc_probs)\n",
    "false_gbc, true_gbc, _ = roc_curve(y_test, gbc_probs)\n",
    "\n",
    "lr_auc = round(roc_auc_score(y_test, lr_probs), 4)\n",
    "rfc_auc = round(roc_auc_score(y_test, rfc_probs), 4)\n",
    "gbc_auc = round(roc_auc_score(y_test, gbc_probs), 4)"
   ]
  },
  {
   "cell_type": "code",
   "execution_count": 268,
   "metadata": {},
   "outputs": [
    {
     "data": {
      "image/png": "[encoded data removed]",
      "text/plain": [
       "<matplotlib.figure.Figure at 0x7f2dacf8e828>"
      ]
     },
     "metadata": {},
     "output_type": "display_data"
    }
   ],
   "source": [
    "plt.figure(figsize=(15,10))\n",
    "plt.plot(\n",
    "    false_lr, true_lr, 'r',\n",
    "    false_rfc, true_rfc, 'b',\n",
    "    false_gbc, true_gbc, 'g',)\n",
    "plt.legend(('Log Regression AUC = {}'.format(lr_auc),\n",
    "           'Random Forest AUC = {}'.format(rfc_auc),\n",
    "           'Gradient Boost AUC = {}'.format(gbc_auc)),\n",
    "           loc = 'lower right', edgecolor='k', prop={'size': 24})\n",
    "plt.plot([0, 1], [0, 1],'b--')\n",
    "plt.xlim([-0.01, 1.01])\n",
    "plt.ylim([-0.01, 1.01])\n",
    "plt.title('ROC Curves', fontweight='bold', fontsize=36)\n",
    "plt.ylabel('True Positive Rate', fontweight='bold', fontsize=24)\n",
    "plt.xlabel('False Positive Rate', fontweight='bold', fontsize=24)\n",
    "plt.grid()\n",
    "plt.show()"
   ]
  },
  {
   "cell_type": "markdown",
   "metadata": {},
   "source": [
    "# Voting"
   ]
  },
  {
   "cell_type": "code",
   "execution_count": 269,
   "metadata": {
    "collapsed": true
   },
   "outputs": [],
   "source": [
    "def vote(df_list, n_highest):\n",
    "    \n",
    "    '''\n",
    "    take list of model proba results and return voting results for n predicted states\n",
    "    \n",
    "    return a new df with states listed by descending voting scores\n",
    "    '''\n",
    "    \n",
    "    scores = np.zeros((50,1))\n",
    "\n",
    "    for proba_rank in df_list:\n",
    "        for rank, state in proba_rank.iterrows():            \n",
    "            if rank < n_highest:                \n",
    "                # state[0] is state's actual index\n",
    "                scores[state[0]]+=1\n",
    "                \n",
    "    \n",
    "    state_scores = test['geography'].to_frame()\n",
    "    state_scores['score'] = scores\n",
    "    \n",
    "    return state_scores.sort_values(by='score', ascending=False)"
   ]
  },
  {
   "cell_type": "code",
   "execution_count": 274,
   "metadata": {},
   "outputs": [
    {
     "data": {
      "text/html": [
       "<div>\n",
       "<style scoped>\n",
       "    .dataframe tbody tr th:only-of-type {\n",
       "        vertical-align: middle;\n",
       "    }\n",
       "\n",
       "    .dataframe tbody tr th {\n",
       "        vertical-align: top;\n",
       "    }\n",
       "\n",
       "    .dataframe thead th {\n",
       "        text-align: right;\n",
       "    }\n",
       "</style>\n",
       "<table border=\"1\" class=\"dataframe\">\n",
       "  <thead>\n",
       "    <tr style=\"text-align: right;\">\n",
       "      <th></th>\n",
       "      <th>geography</th>\n",
       "      <th>score</th>\n",
       "    </tr>\n",
       "  </thead>\n",
       "  <tbody>\n",
       "    <tr>\n",
       "      <th>25</th>\n",
       "      <td>Montana</td>\n",
       "      <td>3.0</td>\n",
       "    </tr>\n",
       "    <tr>\n",
       "      <th>18</th>\n",
       "      <td>Maine</td>\n",
       "      <td>3.0</td>\n",
       "    </tr>\n",
       "    <tr>\n",
       "      <th>4</th>\n",
       "      <td>California</td>\n",
       "      <td>3.0</td>\n",
       "    </tr>\n",
       "    <tr>\n",
       "      <th>5</th>\n",
       "      <td>Colorado</td>\n",
       "      <td>3.0</td>\n",
       "    </tr>\n",
       "    <tr>\n",
       "      <th>27</th>\n",
       "      <td>Nevada</td>\n",
       "      <td>3.0</td>\n",
       "    </tr>\n",
       "    <tr>\n",
       "      <th>1</th>\n",
       "      <td>Alaska</td>\n",
       "      <td>3.0</td>\n",
       "    </tr>\n",
       "    <tr>\n",
       "      <th>36</th>\n",
       "      <td>Oregon</td>\n",
       "      <td>3.0</td>\n",
       "    </tr>\n",
       "    <tr>\n",
       "      <th>46</th>\n",
       "      <td>Washington</td>\n",
       "      <td>3.0</td>\n",
       "    </tr>\n",
       "    <tr>\n",
       "      <th>10</th>\n",
       "      <td>Hawaii</td>\n",
       "      <td>3.0</td>\n",
       "    </tr>\n",
       "    <tr>\n",
       "      <th>44</th>\n",
       "      <td>Vermont</td>\n",
       "      <td>3.0</td>\n",
       "    </tr>\n",
       "    <tr>\n",
       "      <th>28</th>\n",
       "      <td>New Hampshire</td>\n",
       "      <td>2.0</td>\n",
       "    </tr>\n",
       "    <tr>\n",
       "      <th>22</th>\n",
       "      <td>Minnesota</td>\n",
       "      <td>2.0</td>\n",
       "    </tr>\n",
       "    <tr>\n",
       "      <th>30</th>\n",
       "      <td>New Mexico</td>\n",
       "      <td>1.0</td>\n",
       "    </tr>\n",
       "    <tr>\n",
       "      <th>21</th>\n",
       "      <td>Michigan</td>\n",
       "      <td>1.0</td>\n",
       "    </tr>\n",
       "    <tr>\n",
       "      <th>20</th>\n",
       "      <td>Massachusetts</td>\n",
       "      <td>1.0</td>\n",
       "    </tr>\n",
       "    <tr>\n",
       "      <th>38</th>\n",
       "      <td>Rhode Island</td>\n",
       "      <td>1.0</td>\n",
       "    </tr>\n",
       "    <tr>\n",
       "      <th>33</th>\n",
       "      <td>North Dakota</td>\n",
       "      <td>1.0</td>\n",
       "    </tr>\n",
       "    <tr>\n",
       "      <th>32</th>\n",
       "      <td>North Carolina</td>\n",
       "      <td>1.0</td>\n",
       "    </tr>\n",
       "    <tr>\n",
       "      <th>41</th>\n",
       "      <td>Tennessee</td>\n",
       "      <td>1.0</td>\n",
       "    </tr>\n",
       "    <tr>\n",
       "      <th>7</th>\n",
       "      <td>Delaware</td>\n",
       "      <td>1.0</td>\n",
       "    </tr>\n",
       "    <tr>\n",
       "      <th>6</th>\n",
       "      <td>Connecticut</td>\n",
       "      <td>1.0</td>\n",
       "    </tr>\n",
       "    <tr>\n",
       "      <th>48</th>\n",
       "      <td>Wisconsin</td>\n",
       "      <td>1.0</td>\n",
       "    </tr>\n",
       "    <tr>\n",
       "      <th>2</th>\n",
       "      <td>Arizona</td>\n",
       "      <td>1.0</td>\n",
       "    </tr>\n",
       "    <tr>\n",
       "      <th>39</th>\n",
       "      <td>South Carolina</td>\n",
       "      <td>0.0</td>\n",
       "    </tr>\n",
       "    <tr>\n",
       "      <th>42</th>\n",
       "      <td>Texas</td>\n",
       "      <td>0.0</td>\n",
       "    </tr>\n",
       "    <tr>\n",
       "      <th>43</th>\n",
       "      <td>Utah</td>\n",
       "      <td>0.0</td>\n",
       "    </tr>\n",
       "    <tr>\n",
       "      <th>45</th>\n",
       "      <td>Virginia</td>\n",
       "      <td>0.0</td>\n",
       "    </tr>\n",
       "    <tr>\n",
       "      <th>37</th>\n",
       "      <td>Pennsylvania</td>\n",
       "      <td>0.0</td>\n",
       "    </tr>\n",
       "    <tr>\n",
       "      <th>47</th>\n",
       "      <td>West Virginia</td>\n",
       "      <td>0.0</td>\n",
       "    </tr>\n",
       "    <tr>\n",
       "      <th>35</th>\n",
       "      <td>Oklahoma</td>\n",
       "      <td>0.0</td>\n",
       "    </tr>\n",
       "    <tr>\n",
       "      <th>34</th>\n",
       "      <td>Ohio</td>\n",
       "      <td>0.0</td>\n",
       "    </tr>\n",
       "    <tr>\n",
       "      <th>40</th>\n",
       "      <td>South Dakota</td>\n",
       "      <td>0.0</td>\n",
       "    </tr>\n",
       "    <tr>\n",
       "      <th>0</th>\n",
       "      <td>Alabama</td>\n",
       "      <td>0.0</td>\n",
       "    </tr>\n",
       "    <tr>\n",
       "      <th>31</th>\n",
       "      <td>New York</td>\n",
       "      <td>0.0</td>\n",
       "    </tr>\n",
       "    <tr>\n",
       "      <th>14</th>\n",
       "      <td>Iowa</td>\n",
       "      <td>0.0</td>\n",
       "    </tr>\n",
       "    <tr>\n",
       "      <th>3</th>\n",
       "      <td>Arkansas</td>\n",
       "      <td>0.0</td>\n",
       "    </tr>\n",
       "    <tr>\n",
       "      <th>8</th>\n",
       "      <td>Florida</td>\n",
       "      <td>0.0</td>\n",
       "    </tr>\n",
       "    <tr>\n",
       "      <th>9</th>\n",
       "      <td>Georgia</td>\n",
       "      <td>0.0</td>\n",
       "    </tr>\n",
       "    <tr>\n",
       "      <th>11</th>\n",
       "      <td>Idaho</td>\n",
       "      <td>0.0</td>\n",
       "    </tr>\n",
       "    <tr>\n",
       "      <th>12</th>\n",
       "      <td>Illinois</td>\n",
       "      <td>0.0</td>\n",
       "    </tr>\n",
       "    <tr>\n",
       "      <th>13</th>\n",
       "      <td>Indiana</td>\n",
       "      <td>0.0</td>\n",
       "    </tr>\n",
       "    <tr>\n",
       "      <th>15</th>\n",
       "      <td>Kansas</td>\n",
       "      <td>0.0</td>\n",
       "    </tr>\n",
       "    <tr>\n",
       "      <th>29</th>\n",
       "      <td>New Jersey</td>\n",
       "      <td>0.0</td>\n",
       "    </tr>\n",
       "    <tr>\n",
       "      <th>16</th>\n",
       "      <td>Kentucky</td>\n",
       "      <td>0.0</td>\n",
       "    </tr>\n",
       "    <tr>\n",
       "      <th>17</th>\n",
       "      <td>Louisiana</td>\n",
       "      <td>0.0</td>\n",
       "    </tr>\n",
       "    <tr>\n",
       "      <th>19</th>\n",
       "      <td>Maryland</td>\n",
       "      <td>0.0</td>\n",
       "    </tr>\n",
       "    <tr>\n",
       "      <th>23</th>\n",
       "      <td>Mississippi</td>\n",
       "      <td>0.0</td>\n",
       "    </tr>\n",
       "    <tr>\n",
       "      <th>24</th>\n",
       "      <td>Missouri</td>\n",
       "      <td>0.0</td>\n",
       "    </tr>\n",
       "    <tr>\n",
       "      <th>26</th>\n",
       "      <td>Nebraska</td>\n",
       "      <td>0.0</td>\n",
       "    </tr>\n",
       "    <tr>\n",
       "      <th>49</th>\n",
       "      <td>Wyoming</td>\n",
       "      <td>0.0</td>\n",
       "    </tr>\n",
       "  </tbody>\n",
       "</table>\n",
       "</div>"
      ],
      "text/plain": [
       "         geography  score\n",
       "25         Montana    3.0\n",
       "18           Maine    3.0\n",
       "4       California    3.0\n",
       "5         Colorado    3.0\n",
       "27          Nevada    3.0\n",
       "1           Alaska    3.0\n",
       "36          Oregon    3.0\n",
       "46      Washington    3.0\n",
       "10          Hawaii    3.0\n",
       "44         Vermont    3.0\n",
       "28   New Hampshire    2.0\n",
       "22       Minnesota    2.0\n",
       "30      New Mexico    1.0\n",
       "21        Michigan    1.0\n",
       "20   Massachusetts    1.0\n",
       "38    Rhode Island    1.0\n",
       "33    North Dakota    1.0\n",
       "32  North Carolina    1.0\n",
       "41       Tennessee    1.0\n",
       "7         Delaware    1.0\n",
       "6      Connecticut    1.0\n",
       "48       Wisconsin    1.0\n",
       "2          Arizona    1.0\n",
       "39  South Carolina    0.0\n",
       "42           Texas    0.0\n",
       "43            Utah    0.0\n",
       "45        Virginia    0.0\n",
       "37    Pennsylvania    0.0\n",
       "47   West Virginia    0.0\n",
       "35        Oklahoma    0.0\n",
       "34            Ohio    0.0\n",
       "40    South Dakota    0.0\n",
       "0          Alabama    0.0\n",
       "31        New York    0.0\n",
       "14            Iowa    0.0\n",
       "3         Arkansas    0.0\n",
       "8          Florida    0.0\n",
       "9          Georgia    0.0\n",
       "11           Idaho    0.0\n",
       "12        Illinois    0.0\n",
       "13         Indiana    0.0\n",
       "15          Kansas    0.0\n",
       "29      New Jersey    0.0\n",
       "16        Kentucky    0.0\n",
       "17       Louisiana    0.0\n",
       "19        Maryland    0.0\n",
       "23     Mississippi    0.0\n",
       "24        Missouri    0.0\n",
       "26        Nebraska    0.0\n",
       "49         Wyoming    0.0"
      ]
     },
     "execution_count": 274,
     "metadata": {},
     "output_type": "execute_result"
    }
   ],
   "source": [
    "df_list = [df_lr_probs, df_gbc_probs, df_rfc_probs]\n",
    "\n",
    "vote_results = vote(df_list, 15)\n",
    "vote_results"
   ]
  },
  {
   "cell_type": "code",
   "execution_count": null,
   "metadata": {
    "collapsed": true
   },
   "outputs": [],
   "source": []
  },
  {
   "cell_type": "code",
   "execution_count": 23,
   "metadata": {},
   "outputs": [
    {
     "data": {
      "text/plain": [
       "array([[ 0.81219992,  0.18780008]])"
      ]
     },
     "execution_count": 23,
     "metadata": {},
     "output_type": "execute_result"
    }
   ],
   "source": [
    "# for Flask\n",
    "\n",
    "model = lr.fit(X_train, y_train)\n",
    "model.predict_proba([[0.5, 0.5, 10]])\n",
    "\n",
    "import pickle\n",
    "muffin_cupcake_dict = {'muffin_cupcake_model': model, 'muffin_cupcake_features': ['college_ratio', 'eng_ratio', 'years_med']}\n",
    "muffin_cupcake_dict\n",
    "pickle.dump(muffin_cupcake_dict, open('/home/nate/flask_test/pkl_muffins_cupcakes.p', 'wb'))"
   ]
  }
 ],
 "metadata": {
  "kernelspec": {
   "display_name": "Python 3",
   "language": "python",
   "name": "python3"
  },
  "language_info": {
   "codemirror_mode": {
    "name": "ipython",
    "version": 3
   },
   "file_extension": ".py",
   "mimetype": "text/x-python",
   "name": "python",
   "nbconvert_exporter": "python",
   "pygments_lexer": "ipython3",
   "version": "3.6.3"
  },
  "toc": {
   "nav_menu": {},
   "number_sections": true,
   "sideBar": true,
   "skip_h1_title": false,
   "toc_cell": false,
   "toc_position": {},
   "toc_section_display": "block",
   "toc_window_display": false
  }
 },
 "nbformat": 4,
 "nbformat_minor": 2
}
