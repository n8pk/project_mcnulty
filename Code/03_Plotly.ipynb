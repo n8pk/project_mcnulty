{
 "cells": [
  {
   "cell_type": "code",
   "execution_count": 1,
   "metadata": {
    "collapsed": true
   },
   "outputs": [],
   "source": [
    "import plotly\n",
    "import pandas as pd\n",
    "import numpy as np"
   ]
  },
  {
   "cell_type": "code",
   "execution_count": 2,
   "metadata": {
    "collapsed": true
   },
   "outputs": [],
   "source": [
    "df = pd.read_csv('/home/nate/ds/metis/class_work/projects/clean_data/norm.csv')"
   ]
  },
  {
   "cell_type": "code",
   "execution_count": 3,
   "metadata": {
    "collapsed": true
   },
   "outputs": [],
   "source": [
    "scl = [[0.00, 'rgb(235,255,235)'],[0.01, 'rgb(235,255,235)'],\\\n",
    "       [0.02, 'rgb(184,255,133)'],[0.05, 'rgb(184,255,133)'],\\\n",
    "       [0.06, 'rgb(102,255,51)'],[0.10, 'rgb(102,255,51)'],\\\n",
    "       [0.11, 'rgb(51,204,51)'],[0.40, 'rgb(51,204,51)'],\\\n",
    "       [0.41, 'rgb(0,102,0)'],[1.00, 'rgb(0,102,0)']]\n",
    "\n",
    "df['text'] = df['code'] #+ '<br>' +\\\n",
    "\n",
    "\n",
    "data = [ dict(\n",
    "        type='choropleth',\n",
    "        colorscale = scl,\n",
    "        autocolorscale = False,\n",
    "        locations = df['code'],\n",
    "        z = df['norm_prob'],\n",
    "        locationmode = 'USA-states',\n",
    "        text = df['text'],\n",
    "        marker = dict(\n",
    "            line = dict (\n",
    "                color = 'rgb(0,0,0)',\n",
    "                width = 2\n",
    "            ) ),\n",
    "        colorbar = dict(\n",
    "            title = \"Probability Density\")\n",
    "        ) ]\n",
    "\n",
    "layout = dict(\n",
    "        title = 'Normalized Probability of Legalization',\n",
    "        geo = dict(\n",
    "            scope='usa',\n",
    "            projection=dict( type='albers usa' ),\n",
    "            showlakes = True,\n",
    "            lakecolor = 'rgb(255, 255, 255)'),\n",
    "        showlegend = False\n",
    "             )\n",
    "    \n",
    "fig = dict( data=data, layout=layout )\n",
    "\n",
    "plotly.offline.plot( fig, filename='/home/nate/ds/metis/class_work/projects/project_mcnulty/cloropleth-map.html' );"
   ]
  },
  {
   "cell_type": "code",
   "execution_count": null,
   "metadata": {
    "collapsed": true
   },
   "outputs": [],
   "source": []
  }
 ],
 "metadata": {
  "kernelspec": {
   "display_name": "Python 3",
   "language": "python",
   "name": "python3"
  },
  "language_info": {
   "codemirror_mode": {
    "name": "ipython",
    "version": 3
   },
   "file_extension": ".py",
   "mimetype": "text/x-python",
   "name": "python",
   "nbconvert_exporter": "python",
   "pygments_lexer": "ipython3",
   "version": "3.6.3"
  },
  "toc": {
   "nav_menu": {},
   "number_sections": true,
   "sideBar": true,
   "skip_h1_title": false,
   "toc_cell": false,
   "toc_position": {},
   "toc_section_display": "block",
   "toc_window_display": false
  }
 },
 "nbformat": 4,
 "nbformat_minor": 2
}
